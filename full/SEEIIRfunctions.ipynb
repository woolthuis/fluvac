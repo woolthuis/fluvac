{
 "cells": [
  {
   "cell_type": "code",
   "execution_count": 1,
   "metadata": {
    "collapsed": false
   },
   "outputs": [],
   "source": [
    "import numpy as np"
   ]
  },
  {
   "cell_type": "code",
   "execution_count": 2,
   "metadata": {
    "collapsed": true
   },
   "outputs": [],
   "source": [
    "#Calculate next-generation matrix for three age-classes.\n",
    "\n",
    "def giveContactMatrix():\n",
    "\n",
    "    eigenvalues, eigenvectors = np.linalg.eig(demography*contactMatrix)\n",
    "    dominantEigenvalue = eigenvalues[0]\n",
    "    \n",
    "    #Scale contact matrix such that dominant eigenvalue of q*R is 1.\n",
    "    return contactMatrix/dominantEigenvalue"
   ]
  },
  {
   "cell_type": "code",
   "execution_count": 3,
   "metadata": {
    "collapsed": false
   },
   "outputs": [],
   "source": [
    "#Parameter settings.\n",
    "\n",
    "R0 = 1.4\n",
    "\n",
    "nu1 = 2.5                                    #Latent to infectious rate.\n",
    "nu2 = 1.1                                    #Recovery rate.    \n",
    "beta = nu2*R0/2.0                            #Transmitability parameter.\n",
    "    \n",
    "N = 1000000.0                                #Population size.\n",
    "endTime = 10000                                #Number of days to be calculated.\n",
    "eps = 0.00001                                #Initial fraction infecteds.\n",
    "\n",
    "\n",
    "contactMatrix = np.array([[9,3,1],[3,3,2],[1,2,2]])      #Contact matrix between young, middle, and old.\n",
    "demography = np.array([1/8.,5/8.,2/8.])\n",
    "\n",
    "states = 7\n",
    "groups = len(demography)                     #Number of age groups.\n",
    "cij = giveContactMatrix()                    #Scaled contact matrix.\n",
    "    "
   ]
  },
  {
   "cell_type": "code",
   "execution_count": 4,
   "metadata": {
    "collapsed": false
   },
   "outputs": [],
   "source": [
    "#SIR-model for one season.\n",
    "#Includes age structure and vaccinated population.\n",
    "\n",
    "#Input s0 and p0 are as fraction of the age group.\n",
    "#Outputs are in fraction of total population.\n",
    "\n",
    "from scipy.integrate import odeint\n",
    "\n",
    "def SEEIIR(R0,Vr,s0,p0):\n",
    "\n",
    "    if N*s0[0] < 100:\n",
    "        print 'Warning: N to small'\n",
    "    \n",
    "    def ForceInfection(Y,i):\n",
    "            \n",
    "        infecteds = Y[:,4]+Y[:,5]\n",
    "        force = (beta/N)*cij[i,:]*infecteds\n",
    "\n",
    "        return sum(force)\n",
    "        \n",
    "    def derivative(y,t):\n",
    "\n",
    "        Y = y.reshape((groups,states))\n",
    "               \n",
    "        dydt = []\n",
    "        \n",
    "        #Run over the age groups.\n",
    "        for i,x in enumerate(Y):\n",
    "            #S=x[0], P=x[1], E1=x[2], E2=x[3], I1=x[4], I2=x[5], R=x[6]\n",
    "            \n",
    "            force = ForceInfection(Y,i)\n",
    "\n",
    "            dSdt = -force*x[0]\n",
    "            dPdt = -(1-Vr)*force*x[1]\n",
    "        \n",
    "            dE1dt = force*(x[0]+(1-Vr)*x[1]) - nu1*x[2]\n",
    "            dE2dt = nu1*x[2] - nu1*x[3]\n",
    "        \n",
    "            dI1dt = nu1*x[3] - nu2*x[4]\n",
    "            dI2dt = nu2*x[4] - nu2*x[5]\n",
    "        \n",
    "            dRdt = nu2*x[5]\n",
    "        \n",
    "            dydt.extend([dSdt, dPdt, dE1dt, dE2dt, dI1dt, dI2dt, dRdt])\n",
    "            \n",
    "        return dydt\n",
    "    \n",
    "    #Note: adding Jacobian to ODE solver makes integrator slower.\n",
    "    def Jacobian(y,t):\n",
    "        \n",
    "        Y = y.reshape((groups,states))\n",
    "        \n",
    "        force = ForceInfection(Y,0)\n",
    "        \n",
    "        J = np.zeros((groups*states, groups*states))\n",
    "        \n",
    "        J[0,0] = -force\n",
    "        J[3,0] = -(beta/N)*y[0]\n",
    "        J[4,0] = -(beta/N)*y[0]\n",
    "        \n",
    "        J[1,0] = force\n",
    "        J[1,1] = -nu1\n",
    "        J[3,1] = -(beta/N)*y[0]\n",
    "        J[4,1] = -(beta/N)*y[0]\n",
    "\n",
    "        J[2,1] = nu1\n",
    "        J[2,2] = -nu1\n",
    "        \n",
    "        J[3,2] = nu1\n",
    "        J[3,3] = -nu2\n",
    "        \n",
    "        J[4,3] = nu2\n",
    "        J[4,4] = -nu2\n",
    "        \n",
    "        J[5,4] = nu2\n",
    "        \n",
    "        return J\n",
    "\n",
    "    \n",
    "    time = np.linspace(0.0,200,200)\n",
    "    \n",
    "    yinit = np.concatenate( [[ (s-2*eps)*f*N, p*f*N, 0.0, 0.0, eps*f*N, eps*f*N, (1-(s+p))*f*N] \n",
    "                             for s,p,f in zip(s0,p0,demography)] )\n",
    "\n",
    "    y = odeint(derivative,yinit,time)#,Dfun=Jacobian)\n",
    "    \n",
    "    while sum(abs(y[-1]-y[-2])) > 0.001*N and time[-1] < endTime:\n",
    "        dtime = np.linspace(0.0,100,100)\n",
    "        ynew = odeint(derivative,y[-1],dtime)\n",
    "        \n",
    "        y = np.concatenate([y,ynew])\n",
    "    \n",
    "    time = np.linspace(0.0,len(y),len(y))\n",
    "    \n",
    "    return time, y/N"
   ]
  },
  {
   "cell_type": "code",
   "execution_count": 1,
   "metadata": {
    "collapsed": false
   },
   "outputs": [],
   "source": [
    "#Function gives the attack rate for all age groups (and for s and p), as fraction of these age groups.\n",
    "def giveAttackrate(y):\n",
    "    #Take difference between start and end of the epidemic.\n",
    "    diffy = y[0]-y[-1]\n",
    "    Y = diffy.reshape((groups,states))\n",
    "    \n",
    "    #Calculate total reduction in susceptibility (i.e. the attack rate).\n",
    "    return Y[:,0]/demography,Y[:,1]/demography\n",
    "    \n",
    "def giveTotalIncindence(y):\n",
    "    return [np.sum(x.reshape((groups,states))[:,4:6]) for x in y]\n",
    "    \n",
    "def giveEpidemicPeak(y):\n",
    "    peak = max(giveTotalIncindence(y))\n",
    "    if peak <= 2.01*eps: peak = 0.0\n",
    "    return peak\n"
   ]
  },
  {
   "cell_type": "code",
   "execution_count": null,
   "metadata": {
    "collapsed": true
   },
   "outputs": [],
   "source": []
  },
  {
   "cell_type": "code",
   "execution_count": 9,
   "metadata": {
    "collapsed": true
   },
   "outputs": [],
   "source": [
    "def giveNextSusceptibility(parameters,gamma,sIn,pIn):\n",
    "    R0 = parameters['R0']\n",
    "    Vc = parameters['Vc']\n",
    "    Ve = parameters['Ve']\n",
    "    Vr = parameters['Vr']\n",
    "\n",
    "    #First vaccination, then epidemic, at last waning.\n",
    "    s1 = (1.0-Vc*Ve)*sIn\n",
    "    p1 = pIn + Vc*Ve*sIn\n",
    "    \n",
    "    time, proportions = SEEIIR(R0,Vr,s1,p1)\n",
    "    \n",
    "    peak = giveEpidemicPeak(proportions)\n",
    "    zS, zP = giveAttackrate(proportions)\n",
    "    \n",
    "    s2 = s1 - zS\n",
    "    p2 = p1 - zP\n",
    "    \n",
    "    sOut = np.ones(groups) - gamma*( np.ones(groups) - s2 )\n",
    "    pOut = gamma*p2\n",
    "    \n",
    "    #Output: final size as fraction of susceptible/vaccinated population.\n",
    "    #        susceptibilities as fraction of age group.\n",
    "    return (zS/s1,zP/p1),(sOut,pOut), peak"
   ]
  },
  {
   "cell_type": "code",
   "execution_count": 10,
   "metadata": {
    "collapsed": true
   },
   "outputs": [],
   "source": [
    "#Timeseries functions.\n",
    "import random as rnd\n",
    "\n",
    "def calculateTimeseries(parameters,years,mode):\n",
    "    \n",
    "    #Add burn-in period.\n",
    "    years = range(0,years+50)\n",
    "    \n",
    "    #Initialise output vectors (s: susceptibles, p: partly immunes).\n",
    "    timeseriesSusc = dict([('s',[np.ones(groups)]),('p',[np.zeros(groups)])])      #Fraction susceptibles at start of season.\n",
    "    timeseriesFinal = dict([('s',[np.zeros(groups)]),('p',[np.zeros(groups)])])    #Fraction infected during seasonal epidemic.\n",
    "    peaks = []\n",
    "    \n",
    "    for year in years:\n",
    "        \n",
    "        if mode == 'Deterministic':\n",
    "            gamma = parameters['gamma']\n",
    "        elif mode == 'Stochastic':\n",
    "            gamma = rnd.betavariate(5,2)\n",
    "        else:\n",
    "            print 'Wrong mode. Set mode to Deterministic or Stochastic.'\n",
    "        \n",
    "        s, p = timeseriesSusc['s'][-1], timeseriesSusc['p'][-1]\n",
    "        \n",
    "        \n",
    "        finalSize, susceptibility, peak = giveNextSusceptibility(parameters,gamma,s,p)\n",
    "        \n",
    "        timeseriesSusc['s'] += [ susceptibility[0] ]\n",
    "        timeseriesSusc['p'] += [ susceptibility[1] ]\n",
    "        \n",
    "        timeseriesFinal['s'] += [ finalSize[0] ]\n",
    "        timeseriesFinal['p'] += [ finalSize[1] ]\n",
    "        \n",
    "        peaks += [ peak ]\n",
    "   \n",
    "    #Remove burn-in period.\n",
    "    timeseriesSusc['s'] = np.array(timeseriesSusc['s'][51:])\n",
    "    timeseriesSusc['p'] = np.array(timeseriesSusc['p'][51:])\n",
    "    \n",
    "    timeseriesFinal['s'] = np.array(timeseriesFinal['s'][51:])\n",
    "    timeseriesFinal['p'] = np.array(timeseriesFinal['p'][51:])\n",
    "        \n",
    "    return timeseriesSusc, timeseriesFinal, peaks"
   ]
  },
  {
   "cell_type": "code",
   "execution_count": null,
   "metadata": {
    "collapsed": true
   },
   "outputs": [],
   "source": []
  },
  {
   "cell_type": "code",
   "execution_count": null,
   "metadata": {
    "collapsed": true
   },
   "outputs": [],
   "source": []
  },
  {
   "cell_type": "code",
   "execution_count": null,
   "metadata": {
    "collapsed": true
   },
   "outputs": [],
   "source": [
    "#Functions below are the same as in Functions.ipynb of the basic model (i.e. in /basic)."
   ]
  },
  {
   "cell_type": "code",
   "execution_count": null,
   "metadata": {
    "collapsed": true
   },
   "outputs": [],
   "source": [
    "#Plot function. Removes box around plot.\n",
    "def removeFrame(ax):\n",
    "    ax.spines['top'].set_visible(False)\n",
    "    ax.spines['right'].set_visible(False)\n",
    "\n",
    "    for tic in ax.xaxis.get_major_ticks():\n",
    "        tic.tick2On = False\n",
    "    for tic in ax.yaxis.get_major_ticks():\n",
    "        tic.tick2On = False"
   ]
  },
  {
   "cell_type": "code",
   "execution_count": null,
   "metadata": {
    "collapsed": true
   },
   "outputs": [],
   "source": [
    "#Save data to file for later import back into python.\n",
    "import pickle\n",
    "\n",
    "def writeData(filename,data):\n",
    "    outfile = open(filename + '.dat', 'w' )\n",
    "    pickle.dump(data, outfile)\n",
    "    outfile.close()\n",
    "\n",
    "#Load data again.\n",
    "def readData(filename):\n",
    "    infile = open(filename + '.dat', 'r')\n",
    "    return pickle.load(infile)"
   ]
  },
  {
   "cell_type": "code",
   "execution_count": null,
   "metadata": {
    "collapsed": true
   },
   "outputs": [],
   "source": []
  }
 ],
 "metadata": {
  "kernelspec": {
   "display_name": "Python 2",
   "language": "python",
   "name": "python2"
  },
  "language_info": {
   "codemirror_mode": {
    "name": "ipython",
    "version": 2
   },
   "file_extension": ".py",
   "mimetype": "text/x-python",
   "name": "python",
   "nbconvert_exporter": "python",
   "pygments_lexer": "ipython2",
   "version": "2.7.9"
  }
 },
 "nbformat": 4,
 "nbformat_minor": 0
}
