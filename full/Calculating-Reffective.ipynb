{
 "cells": [
  {
   "cell_type": "code",
   "execution_count": 1,
   "metadata": {
    "collapsed": false
   },
   "outputs": [
    {
     "name": "stdout",
     "output_type": "stream",
     "text": [
      "Populating the interactive namespace from numpy and matplotlib\n"
     ]
    }
   ],
   "source": [
    "%matplotlib inline\n",
    "%pylab inline\n",
    "\n",
    "#Modules.\n",
    "from Classes import *"
   ]
  },
  {
   "cell_type": "code",
   "execution_count": 2,
   "metadata": {
    "collapsed": true
   },
   "outputs": [],
   "source": [
    "myParameters = dict([\n",
    "['R0', 1.4],            #Basic reproduction number.\n",
    "['gamma', 5/7.],       #Waning immunity rate. Mean beta distribution = alpha/(alpha+beta) = 10/12\n",
    "['Vc', 0.10001],            #Vaccine coverage.\n",
    "['Ve', 1.0],            #Vaccine efficiency.\n",
    "['Vr', 0.5]])           #Vaccine resistance."
   ]
  },
  {
   "cell_type": "code",
   "execution_count": 3,
   "metadata": {
    "collapsed": false
   },
   "outputs": [],
   "source": [
    "R0 = 1.4\n",
    "\n",
    "nu1 = 2.5                                    #Latent to infectious rate.\n",
    "nu2 = 1.1                                    #Recovery rate.    \n",
    "beta = nu2*R0/2.0                            #Transmitability parameter.\n",
    "\n",
    "\n",
    "contactMatrix = np.array([[9,3,1],[3,3,2],[1,2,2]])      #Contact matrix between young, middle, and old.\n",
    "demography = np.array([1/8.,5/8.,2/8.])\n",
    "\n",
    "cij = fun.giveContactMatrix()\n",
    "\n",
    "years = 150"
   ]
  },
  {
   "cell_type": "code",
   "execution_count": 4,
   "metadata": {
    "collapsed": false
   },
   "outputs": [
    {
     "name": "stdout",
     "output_type": "stream",
     "text": [
      "16.6532249451\n"
     ]
    }
   ],
   "source": [
    "import time\n",
    "\n",
    "start = time.time()\n",
    "\n",
    "years = 150\n",
    "\n",
    "susceptibilies, finalSizes, peaks = fun.calculateTimeseries(myParameters,years,'Stochastic')\n",
    "\n",
    "end = time.time()\n",
    "\n",
    "print end-start"
   ]
  },
  {
   "cell_type": "code",
   "execution_count": null,
   "metadata": {
    "collapsed": false
   },
   "outputs": [],
   "source": []
  },
  {
   "cell_type": "code",
   "execution_count": 16,
   "metadata": {
    "collapsed": false
   },
   "outputs": [
    {
     "name": "stdout",
     "output_type": "stream",
     "text": [
      "0 0.25 0 0.25\n"
     ]
    }
   ],
   "source": [
    "sweepVc = [0,0.25]\n",
    "ReffsSweep = dict([ ['Deterministic',[]], ['Stochastic',[]] ])\n",
    "\n",
    "for mode in ReffsSweep.keys():\n",
    "    for Vc in sweepVc:\n",
    "        print Vc,\n",
    "    \n",
    "        susceptibilies, finalSizes, peaks = fun.calculateTimeseries(myParameters,years,mode)\n",
    "\n",
    "        Reffs = []\n",
    "    \n",
    "        for s,p in zip(susceptibilies['s'][50:], susceptibilies['p'][50:]):\n",
    "\n",
    "            currentStateContact = (2*beta/nu2)*(demography*s*cij + demography*p*cij)\n",
    "\n",
    "\n",
    "            eigenvalues, eigenvectors = np.linalg.eig(currentStateContact)\n",
    "            Reffs += [ eigenvalues[0] ]\n",
    "\n",
    "        ReffsSweep[mode] += [ Reffs ]\n"
   ]
  },
  {
   "cell_type": "code",
   "execution_count": 17,
   "metadata": {
    "collapsed": false
   },
   "outputs": [
    {
     "data": {
      "text/plain": [
       "[<matplotlib.lines.Line2D at 0x109a59810>]"
      ]
     },
     "execution_count": 17,
     "metadata": {},
     "output_type": "execute_result"
    },
    {
     "data": {
      "image/png": "[encoded data removed]",
      "text/plain": [
       "<matplotlib.figure.Figure at 0x109a59f10>"
      ]
     },
     "metadata": {},
     "output_type": "display_data"
    }
   ],
   "source": [
    "Reffs = ReffsSweep['Stochastic'][1]\n",
    "\n",
    "scatter(range(years-50),Reffs, color = 'black')\n",
    "plot([0,years-50],[mean(Reffs),mean(Reffs)], 'k--')"
   ]
  },
  {
   "cell_type": "code",
   "execution_count": null,
   "metadata": {
    "collapsed": true
   },
   "outputs": [],
   "source": []
  },
  {
   "cell_type": "code",
   "execution_count": null,
   "metadata": {
    "collapsed": true
   },
   "outputs": [],
   "source": []
  },
  {
   "cell_type": "code",
   "execution_count": null,
   "metadata": {
    "collapsed": true
   },
   "outputs": [],
   "source": []
  }
 ],
 "metadata": {
  "kernelspec": {
   "display_name": "Python 2",
   "language": "python",
   "name": "python2"
  },
  "language_info": {
   "codemirror_mode": {
    "name": "ipython",
    "version": 2
   },
   "file_extension": ".py",
   "mimetype": "text/x-python",
   "name": "python",
   "nbconvert_exporter": "python",
   "pygments_lexer": "ipython2",
   "version": "2.7.9"
  }
 },
 "nbformat": 4,
 "nbformat_minor": 0
}
