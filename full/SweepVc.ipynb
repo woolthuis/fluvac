{
 "cells": [
  {
   "cell_type": "code",
   "execution_count": 1,
   "metadata": {
    "collapsed": false
   },
   "outputs": [
    {
     "name": "stdout",
     "output_type": "stream",
     "text": [
      "Populating the interactive namespace from numpy and matplotlib\n"
     ]
    }
   ],
   "source": [
    "%matplotlib inline\n",
    "%pylab inline\n",
    "\n",
    "#Modules.\n",
    "from Classes import *"
   ]
  },
  {
   "cell_type": "code",
   "execution_count": 2,
   "metadata": {
    "collapsed": true
   },
   "outputs": [],
   "source": [
    "myParameters = dict([\n",
    "['R0', 1.4],            #Basic reproduction number.\n",
    "['gamma', 5/7.],       #Waning immunity rate. Mean beta distribution = alpha/(alpha+beta) = 10/12\n",
    "['Vc', 0.00001],            #Vaccine coverage.\n",
    "['Ve', 1.0],            #Vaccine efficiency.\n",
    "['Vr', 0.5]])           #Vaccine resistance."
   ]
  },
  {
   "cell_type": "code",
   "execution_count": 3,
   "metadata": {
    "collapsed": false
   },
   "outputs": [
    {
     "name": "stdout",
     "output_type": "stream",
     "text": [
      "13.5853140354\n"
     ]
    }
   ],
   "source": [
    "import time\n",
    "\n",
    "start = time.time()\n",
    "\n",
    "x,y,peaks = fun.calculateTimeseries(myParameters,100,'Stochastic')\n",
    "\n",
    "end = time.time()\n",
    "\n",
    "print end-start"
   ]
  },
  {
   "cell_type": "code",
   "execution_count": 4,
   "metadata": {
    "collapsed": true
   },
   "outputs": [],
   "source": [
    "sweepVc = arange(0.000001,0.41,0.01)"
   ]
  },
  {
   "cell_type": "code",
   "execution_count": 5,
   "metadata": {
    "collapsed": false
   },
   "outputs": [
    {
     "name": "stdout",
     "output_type": "stream",
     "text": [
      "1e-06 0.010001 0.020001 0.030001 0.040001 0.050001 0.060001 0.070001 0.080001 0.090001 0.100001 0.110001 0.120001 0.130001 0.140001 0.150001 0.160001 0.170001 0.180001 0.190001 0.200001 0.210001 0.220001 0.230001 0.240001 0.250001 0.260001 0.270001 0.280001 0.290001 0.300001 0.310001 0.320001 0.330001 0.340001 0.350001 0.360001 0.370001 0.380001 0.390001 0.400001\n"
     ]
    }
   ],
   "source": [
    "#Deterministic runs.\n",
    "\n",
    "runsDeterministic = dict()\n",
    "\n",
    "for Vc in sweepVc:\n",
    "    print Vc,\n",
    "    currentTimeseries = Timeseries(myParameters,100,'Deterministic')\n",
    "    \n",
    "    currentTimeseries.changeParameter('Vc',Vc)\n",
    "    currentTimeseries.runTimeseries()\n",
    "    \n",
    "    currentTimeseries.calculateMeanFinalsize()\n",
    "    currentTimeseries.calculateMeanPeak()\n",
    "    \n",
    "    #currentTimeseries.deleteTimeseries()\n",
    "    \n",
    "    runsDeterministic[Vc] = currentTimeseries"
   ]
  },
  {
   "cell_type": "code",
   "execution_count": null,
   "metadata": {
    "collapsed": true
   },
   "outputs": [],
   "source": []
  },
  {
   "cell_type": "code",
   "execution_count": 5,
   "metadata": {
    "collapsed": false
   },
   "outputs": [
    {
     "name": "stdout",
     "output_type": "stream",
     "text": [
      "1e-06 0.050001 0.100001 0.150001 0.200001 0.250001 0.300001 0.350001 0.400001\n"
     ]
    }
   ],
   "source": [
    "#Stochastic runs.\n",
    "runs = range(1000)\n",
    "\n",
    "runsStochastic = dict()\n",
    "\n",
    "for Vc in sweepVc:\n",
    "    print Vc,\n",
    "    \n",
    "    runsVc = []\n",
    "    for run in runs:\n",
    "        currentTimeseries = Timeseries(myParameters,100,'Stochastic')\n",
    "    \n",
    "        currentTimeseries.changeParameter('Vc',Vc)\n",
    "        currentTimeseries.runTimeseries()\n",
    "    \n",
    "        currentTimeseries.calculateMeanFinalsize()\n",
    "        currentTimeseries.calculateMeanPeak()\n",
    "\n",
    "\n",
    "        runsVc += [ currentTimeseries ]\n",
    "\n",
    "    runsStochastic[Vc] = runsVc"
   ]
  },
  {
   "cell_type": "code",
   "execution_count": null,
   "metadata": {
    "collapsed": true
   },
   "outputs": [],
   "source": []
  },
  {
   "cell_type": "code",
   "execution_count": 6,
   "metadata": {
    "collapsed": false
   },
   "outputs": [],
   "source": [
    "#Write data for re-use.\n",
    "fun.writeData('data/sweepVc-Deterministics',runsDeterministic)\n",
    "#fun.writeData('data/sweepVc-Stochastics',runsStochastic)"
   ]
  },
  {
   "cell_type": "code",
   "execution_count": null,
   "metadata": {
    "collapsed": true
   },
   "outputs": [],
   "source": []
  },
  {
   "cell_type": "code",
   "execution_count": null,
   "metadata": {
    "collapsed": true
   },
   "outputs": [],
   "source": []
  },
  {
   "cell_type": "code",
   "execution_count": null,
   "metadata": {
    "collapsed": true
   },
   "outputs": [],
   "source": []
  }
 ],
 "metadata": {
  "kernelspec": {
   "display_name": "Python 2",
   "language": "python",
   "name": "python2"
  },
  "language_info": {
   "codemirror_mode": {
    "name": "ipython",
    "version": 2
   },
   "file_extension": ".py",
   "mimetype": "text/x-python",
   "name": "python",
   "nbconvert_exporter": "python",
   "pygments_lexer": "ipython2",
   "version": "2.7.9"
  }
 },
 "nbformat": 4,
 "nbformat_minor": 0
}
