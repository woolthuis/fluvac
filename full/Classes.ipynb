{
 "cells": [
  {
   "cell_type": "code",
   "execution_count": 2,
   "metadata": {
    "collapsed": false
   },
   "outputs": [],
   "source": [
    "import SEEIIRfunctions as fun\n",
    "import numpy as np"
   ]
  },
  {
   "cell_type": "code",
   "execution_count": null,
   "metadata": {
    "collapsed": true
   },
   "outputs": [],
   "source": [
    "\n",
    "#Timeseries class, contains all parameter inputs, and quantaties of interest as outputs.\n",
    "\n",
    "class Timeseries:\n",
    "    def __init__(self,parameters,years,mode):\n",
    "        #Settings.\n",
    "        self.parameters = parameters\n",
    "        self.years = years\n",
    "        self.mode = mode\n",
    "        \n",
    "        #Basic outputs.\n",
    "        self.susceptibility = dict()\n",
    "        self.finalsize = dict()\n",
    "        self.peaks = []\n",
    "        \n",
    "        #Advanced outputs.\n",
    "        self.meanFinalsize = dict()\n",
    "        self.probOutbreak = dict()\n",
    "        self.meanPeak = -1\n",
    "    \n",
    "    \n",
    "    \n",
    "    #Action functions.\n",
    "    def changeParameter(self, name, value):\n",
    "        self.parameters[name] = value\n",
    "        \n",
    "    def runTimeseries(self):\n",
    "        self.susceptibility, self.finalsize, self.peaks = fun.calculateTimeseries(self.parameters,self.years,self.mode)\n",
    "    \n",
    "    def deleteTimeseries(self):\n",
    "        self.susceptibility = dict()\n",
    "        self.finalsize = dict()        \n",
    "            \n",
    "        \n",
    "    #Calculators.\n",
    "    def calculateMeanFinalsize(self):\n",
    "        self.meanFinalsize = dict([(state,np.mean(self.finalsize[state],0)) for state in ['s','p']])\n",
    "        \n",
    "    def calculateMeanPeak(self):\n",
    "        self.meanPeak = np.mean(self.peaks[1:])\n",
    "\n"
   ]
  }
 ],
 "metadata": {
  "kernelspec": {
   "display_name": "Python 2",
   "language": "python",
   "name": "python2"
  },
  "language_info": {
   "codemirror_mode": {
    "name": "ipython",
    "version": 2
   },
   "file_extension": ".py",
   "mimetype": "text/x-python",
   "name": "python",
   "nbconvert_exporter": "python",
   "pygments_lexer": "ipython2",
   "version": "2.7.9"
  }
 },
 "nbformat": 4,
 "nbformat_minor": 0
}
