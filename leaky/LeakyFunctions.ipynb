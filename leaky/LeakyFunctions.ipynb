{
 "cells": [
  {
   "cell_type": "code",
   "execution_count": null,
   "metadata": {
    "collapsed": true
   },
   "outputs": [],
   "source": [
    "#Iterative final size calculations for leaky vaccine scenario.\n",
    "\n",
    "    #Parameters:\n",
    "    #R0 reproduction number.\n",
    "    #s0 susceptibility at start season.\n",
    "    #Vc vaccine coverage.\n",
    "    #Ve vaccine efficacy.\n",
    "    \n",
    "    #z_u final size unvaccinated (f_u final size function unvaccinated).\n",
    "    #z_v final size vaccinated (f_v final size function vaccinated).\n",
    "\n",
    "import numpy as np\n",
    "\n",
    "def finalSizeFunctionSusceptibles(R0,s0,zS,zP):\n",
    "    return s0*( 1 - np.exp(-R0*( zS + zP )) )\n",
    "\n",
    "def finalSizeFunctionVaccinates(R0,p0,Vr,zS,zP):\n",
    "    return p0*( 1 - np.exp(-R0*(1-Vr)*( zS + zP )) )\n",
    "\n",
    "def findFinalSizeLeakyVaccine(R0,s0,p0,Vr):\n",
    "    \n",
    "    zSold = finalSizeFunctionSusceptibles(R0,s0,1,1)\n",
    "    zPold = finalSizeFunctionVaccinates(R0,p0,Vr,1,1)\n",
    "    \n",
    "    stepChange = 1\n",
    "    while(stepChange > 0.00000001):\n",
    "        zSnew = finalSizeFunctionSusceptibles(R0,s0,zSold,zPold)\n",
    "        zPnew = finalSizeFunctionVaccinates(R0,p0,Vr,zSold,zPold)\n",
    "        \n",
    "        stepChange = abs(zSold-zSnew) + abs(zPold-zPnew)\n",
    "        zSold = zSnew\n",
    "        zPold = zPnew\n",
    "    \n",
    "    return zSnew, zPnew"
   ]
  },
  {
   "cell_type": "code",
   "execution_count": 1,
   "metadata": {
    "collapsed": true
   },
   "outputs": [],
   "source": [
    "def giveNextSusceptibility(R0,gamma,Vc,Ve,Vr,sIn,pIn):\n",
    "    #First vaccination, then epidemic, at last waning.\n",
    "    s1 = (1.0-Vc*Ve)*sIn\n",
    "    p1 = pIn + Vc*Ve*sIn\n",
    "    \n",
    "    zS, zP = findFinalSizeLeakyVaccine(R0,s1,p1,Vr)\n",
    "    \n",
    "    s2 = s1 - zS\n",
    "    p2 = p1 - zP\n",
    "    \n",
    "    sOut = 1.0 - gamma*( 1.0 - s2 )\n",
    "    pOut = gamma*p2\n",
    "    \n",
    "    #f = fraction that is vaccinated this year.\n",
    "    #if p1 == 0.0:\n",
    "    #    vaccineEfficacy = Ve\n",
    "    #else:\n",
    "    #    if Vc*Ve*sIn == 0.0: f = 0.0\n",
    "    #    else: f = (Vc*Ve*sIn)/p1\n",
    "\n",
    "    #    vaccineEfficacy = 1.0 - zP/zS\n",
    "    \n",
    "    #Return final size in susceptible/vaccinated population.\n",
    "    return (zS/s1,zP/p1),(sOut,pOut) #,vaccineEfficacy"
   ]
  },
  {
   "cell_type": "code",
   "execution_count": null,
   "metadata": {
    "collapsed": true
   },
   "outputs": [],
   "source": []
  },
  {
   "cell_type": "code",
   "execution_count": null,
   "metadata": {
    "collapsed": true
   },
   "outputs": [],
   "source": [
    "#Timeseries functions.\n",
    "import random as rnd\n",
    "import numpy as np\n",
    "\n",
    "def calculateTimeseries(parameters,years,mode):\n",
    "    \n",
    "    #Add burn-in period.\n",
    "    years = range(0,len(years)+50)\n",
    "    \n",
    "    #Initialise output vectors (s: susceptibles, p: partly immunes).\n",
    "    timeseriesSusc = dict([('s',[1.0]),('p',[0.0])])      #Fraction susceptibles at start of season.\n",
    "    timeseriesFinal = dict([('s',[0.0]),('p',[0.0])])     #Fraction infected during seasonal epidemic.\n",
    "    \n",
    "    for year in years:\n",
    "        \n",
    "        if mode == 'Deterministic':\n",
    "            gamma = parameters['gamma']\n",
    "        elif mode == 'Stochastic':\n",
    "            gamma = rnd.betavariate(5,2)\n",
    "        else:\n",
    "            print 'Wrong mode. Set mode to Deterministic or Stochastic.'\n",
    "        \n",
    "        s, p = timeseriesSusc['s'][-1], timeseriesSusc['p'][-1]\n",
    "        \n",
    "        finalSize, susceptibility = giveNextSusceptibility(parameters['R0'],gamma,\n",
    "                                                           parameters['Vc'],\n",
    "                                                           parameters['Ve'],parameters['Vr'],s,p)\n",
    "        \n",
    "        timeseriesSusc['s'] += [ susceptibility[0] ]\n",
    "        timeseriesSusc['p'] += [ susceptibility[1] ]\n",
    "        \n",
    "        timeseriesFinal['s'] += [ finalSize[0] ]\n",
    "        timeseriesFinal['p'] += [ finalSize[1] ]\n",
    "   \n",
    "    #Remove burn-in period.\n",
    "    timeseriesSusc['s'] = np.array(timeseriesSusc['s'][51:])\n",
    "    timeseriesSusc['p'] = np.array(timeseriesSusc['p'][51:])\n",
    "    \n",
    "    timeseriesFinal['s'] = np.array(timeseriesFinal['s'][51:])\n",
    "    timeseriesFinal['p'] = np.array(timeseriesFinal['p'][51:])\n",
    "        \n",
    "    return timeseriesSusc, timeseriesFinal"
   ]
  },
  {
   "cell_type": "code",
   "execution_count": null,
   "metadata": {
    "collapsed": true
   },
   "outputs": [],
   "source": []
  },
  {
   "cell_type": "code",
   "execution_count": 2,
   "metadata": {
    "collapsed": true
   },
   "outputs": [],
   "source": [
    "#Functions below are the same as in Functions of the main folder (all-or-nothing vaccine)."
   ]
  },
  {
   "cell_type": "code",
   "execution_count": null,
   "metadata": {
    "collapsed": true
   },
   "outputs": [],
   "source": [
    "#SIR-model for one season.\n",
    "import numpy as np\n",
    "from scipy.integrate import odeint\n",
    "\n",
    "def SPIR(R0,Vr,s0,p0):\n",
    "    nu = 0.5\n",
    "    beta = nu*R0\n",
    "    N = 1000000.0\n",
    "    stepsSeason = 1000\n",
    "        \n",
    "    if N*s0 < 100:\n",
    "        print 'Warning: N to small'\n",
    "    \n",
    "    def derivative(y,t):\n",
    "        #S=y[0], P=y[1] I=y[2], R=y[3]\n",
    "        \n",
    "        dSdt = -(beta/N)*y[0]*y[2]\n",
    "        dPdt = -(beta/N)*(1-Vr)*y[1]*y[2]\n",
    "        \n",
    "        dIdt = (beta/N)*(y[0]+(1-Vr)*y[1])*y[2] - nu*y[2]\n",
    "        dRdt = nu*y[2]\n",
    "        \n",
    "        return [dSdt, dPdt, dIdt, dRdt]\n",
    "\n",
    "    endTime = 1000\n",
    "    time = np.linspace(0.0,endTime,stepsSeason)\n",
    "    yinit = np.array([(s0-0.00001)*N,(p0-0.00001)*N,0.00002*N,(1-s0-p0)*N])\n",
    "\n",
    "    y = odeint(derivative,yinit,time)\n",
    "    \n",
    "    proportions = np.array([[y[i,0]/N, y[i,1]/N, y[i,2]/N, y[i,3]/N] for i in range(len(y))])\n",
    "    return time, proportions"
   ]
  },
  {
   "cell_type": "code",
   "execution_count": null,
   "metadata": {
    "collapsed": true
   },
   "outputs": [],
   "source": [
    "#Peak incidence function.\n",
    "\n",
    "def peakIncidence(R0,Vr,s0,p0):\n",
    "    timeSeason, y = SPIR(R0,Vr,s0,p0)\n",
    "    return max(y[:,2])"
   ]
  },
  {
   "cell_type": "code",
   "execution_count": null,
   "metadata": {
    "collapsed": true
   },
   "outputs": [],
   "source": []
  },
  {
   "cell_type": "code",
   "execution_count": null,
   "metadata": {
    "collapsed": true
   },
   "outputs": [],
   "source": [
    "#Plot function. Removes box around plot.\n",
    "def removeFrame(ax):\n",
    "    ax.spines['top'].set_visible(False)\n",
    "    ax.spines['right'].set_visible(False)\n",
    "\n",
    "    for tic in ax.xaxis.get_major_ticks():\n",
    "        tic.tick2On = False\n",
    "    for tic in ax.yaxis.get_major_ticks():\n",
    "        tic.tick2On = False"
   ]
  },
  {
   "cell_type": "code",
   "execution_count": null,
   "metadata": {
    "collapsed": true
   },
   "outputs": [],
   "source": [
    "#Save data to file for later import back into python.\n",
    "import pickle\n",
    "\n",
    "def writeData(filename,data):\n",
    "    outfile = open(filename + '.dat', 'w' )\n",
    "    pickle.dump(data, outfile)\n",
    "    outfile.close()\n",
    "\n",
    "#Load data again.\n",
    "def readData(filename):\n",
    "    infile = open(filename + '.dat', 'r')\n",
    "    return pickle.load(infile)"
   ]
  }
 ],
 "metadata": {
  "kernelspec": {
   "display_name": "Python 2",
   "language": "python",
   "name": "python2"
  },
  "language_info": {
   "codemirror_mode": {
    "name": "ipython",
    "version": 2
   },
   "file_extension": ".py",
   "mimetype": "text/x-python",
   "name": "python",
   "nbconvert_exporter": "python",
   "pygments_lexer": "ipython2",
   "version": "2.7.9"
  }
 },
 "nbformat": 4,
 "nbformat_minor": 0
}
