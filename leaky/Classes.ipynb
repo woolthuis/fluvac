{
 "cells": [
  {
   "cell_type": "code",
   "execution_count": 1,
   "metadata": {
    "collapsed": true
   },
   "outputs": [],
   "source": [
    "import LeakyFunctions as fun\n",
    "import numpy as np"
   ]
  },
  {
   "cell_type": "code",
   "execution_count": null,
   "metadata": {
    "collapsed": true
   },
   "outputs": [],
   "source": [
    "#Timeseries class, contains all parameter inputs, and quantaties of interest as outputs.\n",
    "\n",
    "class Timeseries:\n",
    "    def __init__(self,parameters,years,mode):\n",
    "        #Settings.\n",
    "        self.parameters = parameters\n",
    "        self.years = years\n",
    "        self.mode = mode\n",
    "        \n",
    "        #Basic outputs.\n",
    "        self.susceptibility = dict()\n",
    "        self.finalsize = dict()\n",
    "        \n",
    "        #Advanced outputs.\n",
    "        self.meanFinalsize = dict()\n",
    "        self.probOutbreak = dict()\n",
    "        self.meanPeak = -1\n",
    "    \n",
    "    \n",
    "    \n",
    "    #Action functions.\n",
    "    def changeParameter(self, name, value):\n",
    "        self.parameters[name] = value\n",
    "        \n",
    "    def runTimeseries(self):\n",
    "        self.susceptibility, self.finalsize = fun.calculateTimeseries(self.parameters,self.years,self.mode)\n",
    "        \n",
    "        \n",
    "        \n",
    "    #Calculators.\n",
    "    def calculateMeanFinalsize(self):\n",
    "        \n",
    "        self.meanFinalsize = dict([(state,np.mean(self.finalsize[state]))\n",
    "                                   for state in ['s','p']])\n",
    "        \n",
    "    def calculateProbOutbreak(self):\n",
    "\n",
    "        self.probOutbreak = sum([(x > 0.0001) for x in self.finalsize['s']])/float(len(self.years))\n",
    "        \n",
    "    def calculatePeak(self):\n",
    "        Vc = self.parameters['Vc']\n",
    "        Ve = self.parameters['Ve']\n",
    "        \n",
    "        Vr = self.parameters['Vr']\n",
    "        R0 = self.parameters['R0']\n",
    "        \n",
    "        self.meanPeak = np.mean([fun.peakIncidence(R0,Vr,(1.0-Vc*Ve)*s0,p0+Vc*Ve*s0) \n",
    "                                 for s0,p0 in zip(self.susceptibility['s'],self.susceptibility['p'])])\n"
   ]
  }
 ],
 "metadata": {
  "kernelspec": {
   "display_name": "Python 2",
   "language": "python",
   "name": "python2"
  },
  "language_info": {
   "codemirror_mode": {
    "name": "ipython",
    "version": 2
   },
   "file_extension": ".py",
   "mimetype": "text/x-python",
   "name": "python",
   "nbconvert_exporter": "python",
   "pygments_lexer": "ipython2",
   "version": "2.7.9"
  }
 },
 "nbformat": 4,
 "nbformat_minor": 0
}
