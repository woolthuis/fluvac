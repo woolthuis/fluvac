{
 "cells": [
  {
   "cell_type": "code",
   "execution_count": 1,
   "metadata": {
    "collapsed": false
   },
   "outputs": [
    {
     "name": "stdout",
     "output_type": "stream",
     "text": [
      "Populating the interactive namespace from numpy and matplotlib\n"
     ]
    }
   ],
   "source": [
    "#Modules.\n",
    "from Classes import *\n",
    "import LeakyFunctions as fun\n",
    "\n",
    "%matplotlib inline\n",
    "%pylab inline"
   ]
  },
  {
   "cell_type": "code",
   "execution_count": 14,
   "metadata": {
    "collapsed": true
   },
   "outputs": [],
   "source": [
    "#SIR-model for one season.\n",
    "import numpy as np\n",
    "from scipy.integrate import odeint\n",
    "\n",
    "def SPIR(R0,Vr,s0,p0):\n",
    "    nu = 0.5\n",
    "    beta = nu*R0\n",
    "    N = 1000000.0\n",
    "    stepsSeason = 1000\n",
    "        \n",
    "    if N*s0 < 100:\n",
    "        print 'Warning: N to small'\n",
    "    \n",
    "    def derivative(y,t):\n",
    "        #S=y[0], P=y[1] I=y[2], R=y[3]\n",
    "        \n",
    "        dSdt = -(beta/N)*y[0]*y[2]\n",
    "        dPdt = -(beta/N)*(1-Vr)*y[1]*y[2]\n",
    "        \n",
    "        dIdt = (beta/N)*(y[0]+(1-Vr)*y[1])*y[2] - nu*y[2]\n",
    "        dRdt = nu*y[2]\n",
    "        \n",
    "        return [dSdt, dPdt, dIdt, dRdt]\n",
    "\n",
    "    endTime = 1000\n",
    "    time = np.linspace(0.0,endTime,stepsSeason)\n",
    "    yinit = np.array([(s0-0.00001)*N,(p0-0.00001)*N,0.00002*N,(1-s0-p0)*N])\n",
    "\n",
    "    y = odeint(derivative,yinit,time)\n",
    "    \n",
    "    proportions = np.array([[y[i,0]/N, y[i,1]/N, y[i,2]/N, y[i,3]/N] for i in range(len(y))])\n",
    "    return time, proportions"
   ]
  },
  {
   "cell_type": "code",
   "execution_count": 15,
   "metadata": {
    "collapsed": false
   },
   "outputs": [
    {
     "name": "stdout",
     "output_type": "stream",
     "text": [
      "Peak incidence: \n",
      "0.000913451956139\n"
     ]
    },
    {
     "data": {
      "text/plain": [
       "0.00091345195613876649"
      ]
     },
     "execution_count": 15,
     "metadata": {},
     "output_type": "execute_result"
    },
    {
     "data": {
      "image/png": "[encoded data removed]",
      "text/plain": [
       "<matplotlib.figure.Figure at 0x108be91d0>"
      ]
     },
     "metadata": {},
     "output_type": "display_data"
    }
   ],
   "source": [
    "R0 = 1.4\n",
    "Vr = 0.5\n",
    "\n",
    "s0 = 0.7\n",
    "p0 = 0.1\n",
    "\n",
    "time,y = SPIR(R0,Vr,s0,p0)\n",
    "\n",
    "plot(time,y[:,2])\n",
    "xlim([0,1000])\n",
    "\n",
    "\n",
    "print 'Peak incidence: '\n",
    "print max(y[:,2])\n",
    "fun.peakIncidence(R0,Vr,s0,p0)"
   ]
  },
  {
   "cell_type": "code",
   "execution_count": 17,
   "metadata": {
    "collapsed": false
   },
   "outputs": [
    {
     "name": "stdout",
     "output_type": "stream",
     "text": [
      "Final size SPIR:\n",
      "(0.068111569943849593, 0.0049891664784968287)\n",
      "Final size equation:\n",
      "(0.067775413562297479, 0.0049643235082061817)\n"
     ]
    }
   ],
   "source": [
    "print 'Final size SPIR:'\n",
    "print (y[:,0][0]-y[:,0][-1], y[:,1][0]-y[:,1][-1])\n",
    "\n",
    "print 'Final size equation:'\n",
    "\n",
    "print fun.findFinalSizeLeakyVaccine(R0,s0,p0,Vr)\n"
   ]
  },
  {
   "cell_type": "code",
   "execution_count": null,
   "metadata": {
    "collapsed": true
   },
   "outputs": [],
   "source": []
  }
 ],
 "metadata": {
  "kernelspec": {
   "display_name": "Python 2",
   "language": "python",
   "name": "python2"
  },
  "language_info": {
   "codemirror_mode": {
    "name": "ipython",
    "version": 2
   },
   "file_extension": ".py",
   "mimetype": "text/x-python",
   "name": "python",
   "nbconvert_exporter": "python",
   "pygments_lexer": "ipython2",
   "version": "2.7.9"
  }
 },
 "nbformat": 4,
 "nbformat_minor": 0
}
