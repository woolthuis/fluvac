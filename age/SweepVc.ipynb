{
 "cells": [
  {
   "cell_type": "code",
   "execution_count": 1,
   "metadata": {
    "collapsed": false
   },
   "outputs": [
    {
     "name": "stdout",
     "output_type": "stream",
     "text": [
      "Populating the interactive namespace from numpy and matplotlib\n"
     ]
    }
   ],
   "source": [
    "#Modules.\n",
    "from Classes import *\n",
    "import AgeFunctions as fun\n",
    "\n",
    "%matplotlib inline\n",
    "%pylab inline"
   ]
  },
  {
   "cell_type": "code",
   "execution_count": 2,
   "metadata": {
    "collapsed": false
   },
   "outputs": [],
   "source": [
    "#Parameters.\n",
    "\n",
    "myParameters = dict([\n",
    "['R0', 1.4],            #Basic reproduction number.\n",
    "['gamma', 5./7.],       #Waning immunity rate. Mean beta distribution = alpha/(alpha+beta) = 5/7\n",
    "['delta',0.],           #Birth/death rate.\n",
    "['Vc', 0.1],            #Vaccine coverage.\n",
    "['Ve', 0.5] ])            #Vaccine efficiency.\n",
    "        \n",
    "\n",
    "#Add next-generation matrix.\n",
    "PopulationNGM, StratifiedNGM = fun.giveNGM(myParameters['R0'])\n",
    "myParameters['NGM'] = StratifiedNGM\n",
    "\n",
    "Years = range(0,100)\n",
    "sweepVc = arange(0,0.41,0.01)"
   ]
  },
  {
   "cell_type": "code",
   "execution_count": null,
   "metadata": {
    "collapsed": true
   },
   "outputs": [],
   "source": []
  },
  {
   "cell_type": "code",
   "execution_count": 3,
   "metadata": {
    "collapsed": false
   },
   "outputs": [],
   "source": [
    "#Deterministic runs.\n",
    "\n",
    "runsDeterministic = dict()\n",
    "\n",
    "for Vc in sweepVc:\n",
    "    currentTimeseries = Timeseries(myParameters,Years,'Deterministic')\n",
    "    \n",
    "    currentTimeseries.changeParameter('Vc',Vc)\n",
    "    currentTimeseries.runTimeseries()\n",
    "    \n",
    "    currentTimeseries.calculatePeak()\n",
    "    currentTimeseries.calculateMeanFinalsize()\n",
    "    currentTimeseries.calculateProbOutbreak()\n",
    "    \n",
    "    runsDeterministic[Vc] = currentTimeseries"
   ]
  },
  {
   "cell_type": "code",
   "execution_count": 4,
   "metadata": {
    "collapsed": false
   },
   "outputs": [
    {
     "name": "stdout",
     "output_type": "stream",
     "text": [
      "0.0 0.01 0.02 0.03 0.04 0.05 0.06 0.07 0.08 0.09 0.1 0.11 0.12 0.13 0.14 0.15 0.16 0.17 0.18 0.19 0.2 0.21 0.22 0.23 0.24 0.25 0.26 0.27 0.28 0.29 0.3 0.31 0.32 0.33 0.34 0.35 0.36 0.37 0.38 0.39 0.4\n"
     ]
    }
   ],
   "source": [
    "#Stochastic runs.\n",
    "runs = range(1000)\n",
    "\n",
    "runsStochastic = dict()\n",
    "\n",
    "for Vc in sweepVc:\n",
    "    print Vc,\n",
    "    \n",
    "    runsVc = []\n",
    "    for run in runs:\n",
    "        currentTimeseries = Timeseries(myParameters,Years,'Stochastic')\n",
    "    \n",
    "        currentTimeseries.changeParameter('Vc',Vc)\n",
    "        currentTimeseries.runTimeseries()\n",
    "    \n",
    "        currentTimeseries.calculatePeak()\n",
    "        currentTimeseries.calculateMeanFinalsize()\n",
    "        currentTimeseries.calculateProbOutbreak()\n",
    "\n",
    "        runsVc += [ currentTimeseries ]\n",
    "\n",
    "    runsStochastic[Vc] = runsVc\n",
    "    "
   ]
  },
  {
   "cell_type": "code",
   "execution_count": null,
   "metadata": {
    "collapsed": true
   },
   "outputs": [],
   "source": []
  },
  {
   "cell_type": "code",
   "execution_count": 5,
   "metadata": {
    "collapsed": true
   },
   "outputs": [],
   "source": [
    "#Write data for re-use.\n",
    "fun.writeData('data/sweepVc-Deterministics',runsDeterministic)\n",
    "fun.writeData('data/sweepVc-Stochastics',runsStochastic)"
   ]
  },
  {
   "cell_type": "code",
   "execution_count": null,
   "metadata": {
    "collapsed": true
   },
   "outputs": [],
   "source": []
  },
  {
   "cell_type": "code",
   "execution_count": null,
   "metadata": {
    "collapsed": true
   },
   "outputs": [],
   "source": []
  }
 ],
 "metadata": {
  "kernelspec": {
   "display_name": "Python 2",
   "language": "python",
   "name": "python2"
  },
  "language_info": {
   "codemirror_mode": {
    "name": "ipython",
    "version": 2
   },
   "file_extension": ".py",
   "mimetype": "text/x-python",
   "name": "python",
   "nbconvert_exporter": "python",
   "pygments_lexer": "ipython2",
   "version": "2.7.9"
  }
 },
 "nbformat": 4,
 "nbformat_minor": 0
}
