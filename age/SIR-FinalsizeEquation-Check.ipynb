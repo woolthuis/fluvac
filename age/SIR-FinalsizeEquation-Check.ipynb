{
 "cells": [
  {
   "cell_type": "code",
   "execution_count": 1,
   "metadata": {
    "collapsed": false
   },
   "outputs": [
    {
     "name": "stdout",
     "output_type": "stream",
     "text": [
      "Populating the interactive namespace from numpy and matplotlib\n"
     ]
    }
   ],
   "source": [
    "#Modules.\n",
    "from Classes import *\n",
    "import AgeFunctions as fun\n",
    "\n",
    "%matplotlib inline\n",
    "%pylab inline"
   ]
  },
  {
   "cell_type": "code",
   "execution_count": 2,
   "metadata": {
    "collapsed": true
   },
   "outputs": [],
   "source": [
    "#SIR-model for one season, with three age structures.\n",
    "import numpy as np\n",
    "from scipy.integrate import odeint\n",
    "\n",
    "def SIRage(R0,s0,stepsSeason,smallPopulation=False):\n",
    "    nu = 0.5\n",
    "    beta = nu*R0\n",
    "    N = 1000000.0\n",
    "    \n",
    "    #Get population distribution and next-generation matrix (of the total population).\n",
    "    frequencies = fun.givePopulationDemocraphy()\n",
    "    PopulationNGM, StratifiedNGM = fun.giveNGM(R0)\n",
    "\n",
    "    if sum(N*s0) < 100:\n",
    "        print 'Warning: N to small'\n",
    "        \n",
    "    def derivative(y,t):\n",
    "        #S=y[0:3], I=y[3:6], R=y[6:9]\n",
    "        \n",
    "        dSdt = -(nu/N)*y[0:3]*dot(PopulationNGM,y[3:6])\n",
    "        dIdt = (nu/N)*y[0:3]*dot(PopulationNGM,y[3:6]) - nu*y[3:6]\n",
    "        dRdt = nu*y[3:6]\n",
    "        \n",
    "        return np.concatenate([dSdt, dIdt, dRdt])\n",
    "\n",
    "    endTime = 1000\n",
    "    time = np.linspace(0.0,endTime,stepsSeason)\n",
    "    \n",
    "    Sinit = (s0-0.0001)*frequencies*N\n",
    "    Iinit = 0.00001*frequencies*N\n",
    "    Rinit = (1.0-s0)*frequencies*N\n",
    "    \n",
    "    yinit = np.concatenate([Sinit,Iinit,Rinit])\n",
    "\n",
    "    y = odeint(derivative,yinit,time)\n",
    "    \n",
    "    return time, y/N"
   ]
  },
  {
   "cell_type": "code",
   "execution_count": 3,
   "metadata": {
    "collapsed": false
   },
   "outputs": [
    {
     "name": "stdout",
     "output_type": "stream",
     "text": [
      "0.000804880328328\n"
     ]
    },
    {
     "data": {
      "text/plain": [
       "0.00080887131323232773"
      ]
     },
     "execution_count": 3,
     "metadata": {},
     "output_type": "execute_result"
    },
    {
     "data": {
      "image/png": "[encoded data removed]",
      "text/plain": [
       "<matplotlib.figure.Figure at 0x108e1a410>"
      ]
     },
     "metadata": {},
     "output_type": "display_data"
    }
   ],
   "source": [
    "R0 = 1.4\n",
    "\n",
    "s0 = 0.75*np.ones(3)#np.array([0.55231846,0.59525588,0.67774278])\n",
    "time,y = SIRage(R0,s0,1000)\n",
    "\n",
    "#plot(time,y)\n",
    "\n",
    "xlim([0,365])\n",
    "ylim([0,0.004])\n",
    "\n",
    "legend(['S1','S2','S3','I1','I2','I3','R1','R2','R3'],bbox_to_anchor=(1.2, 1.))\n",
    "\n",
    "plot(time,np.sum(y[:,3:6],axis=1))\n",
    "#plot(time,np.sum(y[:,6:9],axis=1))\n",
    "\n",
    "\n",
    "\n",
    "\n",
    "print max(np.sum(y[:,3:6],axis=1))\n",
    "fun.peakIncidence(R0,s0)"
   ]
  },
  {
   "cell_type": "code",
   "execution_count": 4,
   "metadata": {
    "collapsed": false
   },
   "outputs": [
    {
     "name": "stdout",
     "output_type": "stream",
     "text": [
      "Final size SIR:\n",
      "0.0651223896558\n",
      "Final size equation:\n",
      "0.400691880286\n"
     ]
    }
   ],
   "source": [
    "print 'Final size SIR:'\n",
    "print np.sum(y[:,6:9],axis=1)[-1]-np.sum(y[:,6:9],axis=1)[0]\n",
    "\n",
    "print 'Final size equation:'\n",
    "PopulationNGM, StratifiedNGM = fun.giveNGM(R0)\n",
    "\n",
    "frequencies = fun.givePopulationDemocraphy()\n",
    "print sum(fun.findFinalSize(R0,StratifiedNGM,s0)*frequencies)"
   ]
  },
  {
   "cell_type": "code",
   "execution_count": null,
   "metadata": {
    "collapsed": true
   },
   "outputs": [],
   "source": []
  },
  {
   "cell_type": "code",
   "execution_count": null,
   "metadata": {
    "collapsed": true
   },
   "outputs": [],
   "source": []
  }
 ],
 "metadata": {
  "kernelspec": {
   "display_name": "Python 2",
   "language": "python",
   "name": "python2"
  },
  "language_info": {
   "codemirror_mode": {
    "name": "ipython",
    "version": 2
   },
   "file_extension": ".py",
   "mimetype": "text/x-python",
   "name": "python",
   "nbconvert_exporter": "python",
   "pygments_lexer": "ipython2",
   "version": "2.7.9"
  }
 },
 "nbformat": 4,
 "nbformat_minor": 0
}
