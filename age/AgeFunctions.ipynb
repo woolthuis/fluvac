{
 "cells": [
  {
   "cell_type": "code",
   "execution_count": 2,
   "metadata": {
    "collapsed": false
   },
   "outputs": [],
   "source": [
    "#Calculate next-generation matrix for three age-classes.\n",
    "\n",
    "def giveNGM(R0):\n",
    "    contactMatrix = np.array([[9,3,1],[3,3,2],[1,2,2]])      #Contact matrix between young, middle, and old.\n",
    "    demography = givePopulationDemocraphy()\n",
    "\n",
    "    eigenvalues, eigenvectors = np.linalg.eig(demography*contactMatrix)\n",
    "    dominantEigenvalue = eigenvalues[0]\n",
    "    \n",
    "    q = R0/dominantEigenvalue           #The scaling parameter such that dominant eigenvalue of q*R is R0.\n",
    "\n",
    "    return q*contactMatrix, q*demography*contactMatrix\n",
    "\n",
    "def givePopulationDemocraphy():\n",
    "    return np.array([1/8.,5/8.,2/8.])"
   ]
  },
  {
   "cell_type": "code",
   "execution_count": 3,
   "metadata": {
    "collapsed": false
   },
   "outputs": [],
   "source": [
    "def finalSizeFunction(NGM,s0,z):\n",
    "    return np.array([s*(1.0 - np.exp(-sum(NGM[i,:]*z))) for i,s in enumerate(s0)])\n",
    "\n",
    "def findFinalSize(NGM,s0):\n",
    "    \n",
    "    zOld = finalSizeFunction(NGM,s0,np.ones(3))\n",
    "    \n",
    "    stepChange = 1\n",
    "    while(stepChange > 0.00000001):\n",
    "        zNew = finalSizeFunction(NGM,s0,zOld)\n",
    "        \n",
    "        stepChange = abs(sum(zOld-zNew))\n",
    "        zOld = zNew\n",
    "    \n",
    "    return zNew"
   ]
  },
  {
   "cell_type": "code",
   "execution_count": 9,
   "metadata": {
    "collapsed": true
   },
   "outputs": [],
   "source": [
    "def giveNextSusceptibility(parameters,sIn):\n",
    "    R0 = parameters['R0']\n",
    "    gamma = parameters['gamma']\n",
    "    delta = parameters['delta']\n",
    "    Vc = parameters['Vc']\n",
    "    Ve = parameters['Ve']\n",
    "    NGM = parameters['NGM']\n",
    "    \n",
    "    #First vaccination, then epidemic, at last waning.\n",
    "    \n",
    "    s1 = (1.0-Vc*Ve)*sIn\n",
    "    \n",
    "    z = findFinalSize(NGM,s1)\n",
    "    \n",
    "    s2 = s1 - z\n",
    "    s3 = np.ones(3) - gamma*( np.ones(3) - s2 )\n",
    "    sOut = (1.0-delta)*s3 + delta*np.array([1,s3[0],s3[1]])\n",
    "\n",
    "    #Return finalsizes and susceptibilities.\n",
    "    return z, sOut"
   ]
  },
  {
   "cell_type": "code",
   "execution_count": 11,
   "metadata": {
    "collapsed": true
   },
   "outputs": [],
   "source": [
    "#Timeseries functions.\n",
    "import random as rnd\n",
    "import numpy as np\n",
    "\n",
    "def calculateTimeseries(parameters,years,mode):\n",
    "    \n",
    "    #Add burn-in period.\n",
    "    years = range(0,len(years)+50)\n",
    "    \n",
    "    #Initialise output vectors.\n",
    "    timeseriesSusc = [ np.ones(3) ]         #Fraction susceptibles at start of season.\n",
    "    timeseriesFinal = [ np.zeros(3) ]       #Fraction infected during seasonal epidemic.\n",
    "    \n",
    "    for year in years:\n",
    "\n",
    "        if mode == 'Stochastic':\n",
    "            parameters['gamma'] = rnd.betavariate(5,2)\n",
    "        elif mode != 'Deterministic':\n",
    "            print 'Wrong mode. Set mode to Deterministic or Stochastic.'\n",
    "        \n",
    "        s = timeseriesSusc[-1]\n",
    "        \n",
    "        finalSize, susceptibility = giveNextSusceptibility(parameters,s)\n",
    "        \n",
    "        timeseriesSusc += [ susceptibility ]\n",
    "        timeseriesFinal += [ finalSize ]\n",
    "\n",
    "    #Remove burn-in period.\n",
    "    return np.array(timeseriesSusc[51:]), np.array(timeseriesFinal[51:])"
   ]
  },
  {
   "cell_type": "code",
   "execution_count": null,
   "metadata": {
    "collapsed": true
   },
   "outputs": [],
   "source": []
  },
  {
   "cell_type": "code",
   "execution_count": null,
   "metadata": {
    "collapsed": false
   },
   "outputs": [],
   "source": [
    "#SIR-model for one season, with three age structures.\n",
    "import numpy as np\n",
    "from scipy.integrate import odeint\n",
    "\n",
    "def SIRage(R0,s0,smallPopulation=False):\n",
    "    nu = 0.5\n",
    "    beta = nu*R0\n",
    "    N = 1000000.0\n",
    "    stepsSeason = 1000\n",
    "    \n",
    "    #Get population distribution and next-generation matrix (of the total population).\n",
    "    frequencies = givePopulationDemocraphy()\n",
    "    PopulationNGM, StratifiedNGM = giveNGM(R0)\n",
    "\n",
    "    if sum(N*s0) < 100:\n",
    "        print 'Warning: N to small'\n",
    "        \n",
    "    def derivative(y,t):\n",
    "        #S=y[0:3], I=y[3:6], R=y[6:9]\n",
    "        \n",
    "        dSdt = -(nu/N)*y[0:3]*np.dot(PopulationNGM,y[3:6])\n",
    "        dIdt = (nu/N)*y[0:3]*np.dot(PopulationNGM,y[3:6]) - nu*y[3:6]\n",
    "        dRdt = nu*y[3:6]\n",
    "        \n",
    "        return np.concatenate([dSdt, dIdt, dRdt])\n",
    "\n",
    "    endTime = 1000\n",
    "    time = np.linspace(0.0,endTime,stepsSeason)\n",
    "    \n",
    "    Sinit = (s0-0.00001)*frequencies*N\n",
    "    Iinit = 0.00001*frequencies*N\n",
    "    Rinit = (1.0-s0)*frequencies*N\n",
    "    \n",
    "    yinit = np.concatenate([Sinit,Iinit,Rinit])\n",
    "\n",
    "    y = odeint(derivative,yinit,time)\n",
    "    \n",
    "    return time, y/N"
   ]
  },
  {
   "cell_type": "code",
   "execution_count": null,
   "metadata": {
    "collapsed": true
   },
   "outputs": [],
   "source": [
    "#Peak incidence function.\n",
    "\n",
    "def peakIncidence(R0,s0):\n",
    "    time, y = SIRage(R0,s0,smallPopulation=True)\n",
    "    return max(np.sum(y[:,3:6],axis=1))"
   ]
  },
  {
   "cell_type": "code",
   "execution_count": null,
   "metadata": {
    "collapsed": true
   },
   "outputs": [],
   "source": []
  },
  {
   "cell_type": "code",
   "execution_count": null,
   "metadata": {
    "collapsed": true
   },
   "outputs": [],
   "source": [
    "#Functions below are the same as in Functions of the main folder (all-or-nothing vaccine)."
   ]
  },
  {
   "cell_type": "code",
   "execution_count": null,
   "metadata": {
    "collapsed": true
   },
   "outputs": [],
   "source": [
    "#Plot function. Removes box around plot.\n",
    "def removeFrame(ax):\n",
    "    ax.spines['top'].set_visible(False)\n",
    "    ax.spines['right'].set_visible(False)\n",
    "\n",
    "    for tic in ax.xaxis.get_major_ticks():\n",
    "        tic.tick2On = False\n",
    "    for tic in ax.yaxis.get_major_ticks():\n",
    "        tic.tick2On = False"
   ]
  },
  {
   "cell_type": "code",
   "execution_count": null,
   "metadata": {
    "collapsed": true
   },
   "outputs": [],
   "source": [
    "#Save data to file for later import back into python.\n",
    "import pickle\n",
    "\n",
    "def writeData(filename,data):\n",
    "    outfile = open(filename + '.dat', 'w' )\n",
    "    pickle.dump(data, outfile)\n",
    "    outfile.close()\n",
    "\n",
    "#Load data again.\n",
    "def readData(filename):\n",
    "    infile = open(filename + '.dat', 'r')\n",
    "    return pickle.load(infile)"
   ]
  }
 ],
 "metadata": {
  "kernelspec": {
   "display_name": "Python 2",
   "language": "python",
   "name": "python2"
  },
  "language_info": {
   "codemirror_mode": {
    "name": "ipython",
    "version": 2
   },
   "file_extension": ".py",
   "mimetype": "text/x-python",
   "name": "python",
   "nbconvert_exporter": "python",
   "pygments_lexer": "ipython2",
   "version": "2.7.9"
  }
 },
 "nbformat": 4,
 "nbformat_minor": 0
}
