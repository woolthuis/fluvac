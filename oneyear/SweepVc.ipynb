{
 "cells": [
  {
   "cell_type": "code",
   "execution_count": 1,
   "metadata": {
    "collapsed": false
   },
   "outputs": [
    {
     "name": "stdout",
     "output_type": "stream",
     "text": [
      "Populating the interactive namespace from numpy and matplotlib\n"
     ]
    }
   ],
   "source": [
    "#Modules.\n",
    "import Functions as fun\n",
    "\n",
    "%matplotlib inline\n",
    "%pylab inline"
   ]
  },
  {
   "cell_type": "code",
   "execution_count": 2,
   "metadata": {
    "collapsed": true
   },
   "outputs": [],
   "source": [
    "#Parameters.\n",
    "R0 = 1.4              #Basic reproduction number.\n",
    "gamma = 5./7.         #Waning immunity rate. Mean beta distribution = alpha/(alpha+beta) = 10/12\n",
    "Vc = 0.1              #Vaccine coverage.\n",
    "Ve = 0.5              #Vaccine efficiency.\n",
    "\n",
    "Years = range(0,100)\n",
    "sweepVc = arange(0,0.71,0.01)"
   ]
  },
  {
   "cell_type": "code",
   "execution_count": null,
   "metadata": {
    "collapsed": true
   },
   "outputs": [],
   "source": []
  },
  {
   "cell_type": "code",
   "execution_count": 3,
   "metadata": {
    "collapsed": false
   },
   "outputs": [],
   "source": [
    "#Deterministic runs.\n",
    "\n",
    "FinalSizeDeterministic = []\n",
    "\n",
    "for Vc in sweepVc:\n",
    "    finDet, suscDet = fun.timeseriesDeterministic(R0, gamma, Vc, Ve, Years)\n",
    "    FinalSizeDeterministic += [ (Vc, (finDet[-1], suscDet[-1])) ]\n",
    "    \n",
    "FinalSizeDeterministic = dict(FinalSizeDeterministic)\n",
    "    \n",
    "finDet, suscDet = fun.timeseriesDeterministic(R0, gamma, 0, Ve, Years)\n",
    "FinalSizeDeterministicDirect = [ (1-Vc*Ve)*finDet[-1] for Vc in sweepVc]"
   ]
  },
  {
   "cell_type": "code",
   "execution_count": 4,
   "metadata": {
    "collapsed": false
   },
   "outputs": [
    {
     "name": "stdout",
     "output_type": "stream",
     "text": [
      "0.0 0.01 0.02 0.03 0.04 0.05 0.06 0.07 0.08 0.09 0.1 0.11 0.12 0.13 0.14 0.15 0.16 0.17 0.18 0.19 0.2 0.21 0.22 0.23 0.24 0.25 0.26 0.27 0.28 0.29 0.3 0.31 0.32 0.33 0.34 0.35 0.36 0.37 0.38 0.39 0.4 0.41 0.42 0.43 0.44 0.45 0.46 0.47 0.48 0.49 0.5 0.51 0.52 0.53 0.54 0.55 0.56 0.57 0.58 0.59 0.6 0.61 0.62 0.63 0.64 0.65 0.66 0.67 0.68 0.69 0.7\n"
     ]
    }
   ],
   "source": [
    "#Stochastic runs.\n",
    "runs = range(1000)\n",
    "\n",
    "FinalSizeStochastic = []\n",
    "\n",
    "for Vc in sweepVc:\n",
    "    print Vc,\n",
    "    \n",
    "    FinalSizeRun = []\n",
    "    for run in runs:\n",
    "        fin, susc = fun.timeseriesStochastic(R0,Vc,Ve,Years,average=False)\n",
    "        FinalSizeRun += [ (fin,susc) ]\n",
    "\n",
    "    FinalSizeStochastic += [ (Vc,FinalSizeRun) ]\n",
    "    \n",
    "FinalSizeStochastic = dict(FinalSizeStochastic)"
   ]
  },
  {
   "cell_type": "code",
   "execution_count": null,
   "metadata": {
    "collapsed": true
   },
   "outputs": [],
   "source": []
  },
  {
   "cell_type": "code",
   "execution_count": 5,
   "metadata": {
    "collapsed": false
   },
   "outputs": [],
   "source": [
    "#Write data for re-use.\n",
    "fun.writeData('data/sweepVcDeterministic-Peak',FinalSizeDeterministic)\n",
    "fun.writeData('data/sweepVcDeterministicDirect-Peak',FinalSizeDeterministicDirect)\n",
    "fun.writeData('data/sweepVcStochastic-Peak',FinalSizeStochastic)"
   ]
  },
  {
   "cell_type": "code",
   "execution_count": null,
   "metadata": {
    "collapsed": true
   },
   "outputs": [],
   "source": []
  },
  {
   "cell_type": "code",
   "execution_count": 6,
   "metadata": {
    "collapsed": false
   },
   "outputs": [],
   "source": [
    "#Calculators.\n",
    "\n",
    "def meanFinalsize(x):\n",
    "    return mean(x[0])\n",
    "\n",
    "def probabilityOutbreak(x):\n",
    "    maxYear = 100.\n",
    "    return sum([(i>0.0001) for i in x[0]])/maxYear\n",
    "\n",
    "def meanPeakIncidence(x):  \n",
    "    return mean([peakIncidence(s0) for s0 in x[1]])\n",
    "\n",
    "def peakIncidence(s0):\n",
    "    timeSeason, y = fun.SIRseason(R0,s0,100,smallPopulation=True)\n",
    "    return max(y[:,1])\n"
   ]
  },
  {
   "cell_type": "code",
   "execution_count": null,
   "metadata": {
    "collapsed": true
   },
   "outputs": [],
   "source": []
  },
  {
   "cell_type": "code",
   "execution_count": 7,
   "metadata": {
    "collapsed": true
   },
   "outputs": [],
   "source": [
    "meanFinalDet = [FinalSizeDeterministic[Vc][0] for Vc in sweepVc]\n",
    "meanProbOutDet = [int(FinalSizeDeterministic[Vc][0]>0.00001) for Vc in sweepVc]\n",
    "meanPeakDet = [peakIncidence(FinalSizeDeterministic[Vc][1]) for Vc in sweepVc]"
   ]
  },
  {
   "cell_type": "code",
   "execution_count": 8,
   "metadata": {
    "collapsed": false
   },
   "outputs": [
    {
     "name": "stdout",
     "output_type": "stream",
     "text": [
      "0.0 0.01 0.02 0.03 0.04 0.05 0.06 0.07 0.08 0.09 0.1 0.11 0.12 0.13 0.14 0.15 0.16 0.17 0.18 0.19 0.2 0.21 0.22 0.23 0.24 0.25 0.26 0.27 0.28 0.29 0.3 0.31 0.32 0.33 0.34 0.35 0.36 0.37 0.38 0.39 0.4 0.41 0.42 0.43 0.44 0.45 0.46 0.47 0.48 0.49 0.5 0.51 0.52 0.53 0.54 0.55 0.56 0.57 0.58 0.59 0.6 0.61 0.62 0.63 0.64 0.65 0.66 0.67 0.68 0.69 0.7\n"
     ]
    }
   ],
   "source": [
    "meanFinal = []\n",
    "meanProbOut = []\n",
    "meanPeak = []\n",
    "\n",
    "for Vc in sweepVc:\n",
    "    print Vc,\n",
    "    runs = FinalSizeStochastic[Vc]\n",
    "\n",
    "    meanFinal += [sorted([meanFinalsize(run) for run in runs])]\n",
    "    meanProbOut += [sorted([probabilityOutbreak(run) for run in runs])]\n",
    "    meanPeak += [sorted([meanPeakIncidence(run) for run in runs])]"
   ]
  },
  {
   "cell_type": "code",
   "execution_count": 9,
   "metadata": {
    "collapsed": true
   },
   "outputs": [],
   "source": [
    "#Write data for re-use.\n",
    "fun.writeData('data/sweepVc-meanFinalDet',meanFinalDet)\n",
    "fun.writeData('data/sweepVc-meanProbOutDet',meanProbOutDet)\n",
    "fun.writeData('data/sweepVc-meanPeakDet',meanPeakDet)\n",
    "\n",
    "fun.writeData('data/sweepVc-meanFinal',meanFinal)\n",
    "fun.writeData('data/sweepVc-meanProbOut',meanProbOut)\n",
    "fun.writeData('data/sweepVc-meanPeak',meanPeak)"
   ]
  },
  {
   "cell_type": "code",
   "execution_count": null,
   "metadata": {
    "collapsed": true
   },
   "outputs": [],
   "source": []
  },
  {
   "cell_type": "code",
   "execution_count": null,
   "metadata": {
    "collapsed": true
   },
   "outputs": [],
   "source": []
  },
  {
   "cell_type": "code",
   "execution_count": null,
   "metadata": {
    "collapsed": true
   },
   "outputs": [],
   "source": []
  },
  {
   "cell_type": "code",
   "execution_count": null,
   "metadata": {
    "collapsed": true
   },
   "outputs": [],
   "source": []
  }
 ],
 "metadata": {
  "kernelspec": {
   "display_name": "Python 2",
   "language": "python",
   "name": "python2"
  },
  "language_info": {
   "codemirror_mode": {
    "name": "ipython",
    "version": 2
   },
   "file_extension": ".py",
   "mimetype": "text/x-python",
   "name": "python",
   "nbconvert_exporter": "python",
   "pygments_lexer": "ipython2",
   "version": "2.7.9"
  }
 },
 "nbformat": 4,
 "nbformat_minor": 0
}
