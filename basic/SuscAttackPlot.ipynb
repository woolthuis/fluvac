{
 "cells": [
  {
   "cell_type": "code",
   "execution_count": null,
   "metadata": {
    "collapsed": false
   },
   "outputs": [],
   "source": [
    "#Packages.\n",
    "from scipy.integrate import odeint      #ODE calculations for SIR\n",
    "\n",
    "#Modules.\n",
    "import Functions as fun\n",
    "\n",
    "%matplotlib inline\n",
    "%pylab inline\n",
    "\n",
    "#Plot settings.\n",
    "rc('font', size = 18)\n",
    "rc('lines', linewidth = 2)\n",
    "\n",
    "myColors = plt.cm.Spectral(concatenate([arange(0,0.35,1/12.),arange(0.6,1.05,1/12.)]))"
   ]
  },
  {
   "cell_type": "code",
   "execution_count": null,
   "metadata": {
    "collapsed": true
   },
   "outputs": [],
   "source": []
  },
  {
   "cell_type": "code",
   "execution_count": null,
   "metadata": {
    "collapsed": false
   },
   "outputs": [],
   "source": [
    "def giveAverageFinalsize(R0,mu,sigma):\n",
    "    \n",
    "    susc = [max(0,random.normal(mu,sigma)) for x in range(10000)]\n",
    "    \n",
    "    zDet = fun.findFinalSize(R0,mu)\n",
    "    zStoch = mean([fun.findFinalSize(R0,s) for s in susc])\n",
    "    \n",
    "    return zDet, zStoch\n",
    "\n",
    "def giveAverageFinalsizes(R0,sRange, sigma):\n",
    "\n",
    "    print sigma,\n",
    "    \n",
    "    zs = array([giveAverageFinalsize(R0,sMean,sigma) for sMean in sRange])\n",
    "    \n",
    "    return zs\n",
    "    "
   ]
  },
  {
   "cell_type": "code",
   "execution_count": null,
   "metadata": {
    "collapsed": false
   },
   "outputs": [],
   "source": [
    "R0s = [1.4,2.8]\n",
    "suscRange = arange(0.0,1.01,0.01)\n",
    "\n",
    "sigmas = [0.05,0.1,0.15]\n",
    "\n",
    "totalZ = []\n",
    "\n",
    "for R0 in R0s:\n",
    "    print R0\n",
    "    \n",
    "    zSigma = dict([( sigma, giveAverageFinalsizes(R0,suscRange, sigma) ) for sigma in sigmas])\n",
    "    \n",
    "    totalZ += [ zSigma ]\n"
   ]
  },
  {
   "cell_type": "code",
   "execution_count": null,
   "metadata": {
    "collapsed": false
   },
   "outputs": [],
   "source": [
    "fun.writeData('dataSuscAttackPlot/totalZ',totalZ)"
   ]
  },
  {
   "cell_type": "code",
   "execution_count": null,
   "metadata": {
    "collapsed": false
   },
   "outputs": [],
   "source": [
    "R0s = [1.4,2.8]\n",
    "suscRange = arange(0.0,1.01,0.01)\n",
    "\n",
    "sigmas = [0.05,0.1,0.15]\n",
    "\n",
    "totalZ = fun.readData('dataSuscAttackPlot/totalZ')"
   ]
  },
  {
   "cell_type": "code",
   "execution_count": null,
   "metadata": {
    "collapsed": false
   },
   "outputs": [],
   "source": [
    "fig = figure(figsize=(12,5))\n",
    "\n",
    "pNums = 2\n",
    "for pNum in range(pNums):\n",
    "    ax = fig.add_subplot(1,pNums,pNum+1)\n",
    "    \n",
    "    ax.plot(suscRange,totalZ[pNum][0.05][:,0], color = myColors[9], label = 'Z($s=\\mu_s$) (deterministic)')\n",
    "\n",
    "    for i,sigma in enumerate(sigmas):\n",
    "        ax.plot(suscRange,totalZ[pNum][sigma][:,1], color = myColors[i], label = str(sigma))\n",
    "\n",
    "    ax.annotate('$s^*$', xy=(1/R0s[pNum], 0.15), xytext=(1/R0s[pNum], 0.3), ha = 'center',\n",
    "                arrowprops=dict(facecolor='black', width = 1, headwidth = 5))\n",
    "\n",
    "    ax.set_xlim([0.0,1.0])\n",
    "    ax.set_ylim([0.0,0.55])\n",
    "\n",
    "    ax.set_xlabel('Susceptibility ($\\mu_s$)')\n",
    "    ax.set_ylabel('Attack rate')\n",
    "    \n",
    "    ax.text(0.8,0.05, '$R_0$: ' + str(R0s[pNum]))\n",
    "\n",
    "    if pNum == 0: legend(loc = 2, fontsize = 16, frameon = False)\n",
    "\n",
    "tight_layout()\n",
    "        \n",
    "#Save figure.\n",
    "if True:\n",
    "    fig.savefig('figures/suscAttackplot.eps')\n",
    "    fig.savefig('figures/suscAttackplot.png')"
   ]
  },
  {
   "cell_type": "code",
   "execution_count": null,
   "metadata": {
    "collapsed": true
   },
   "outputs": [],
   "source": []
  },
  {
   "cell_type": "code",
   "execution_count": null,
   "metadata": {
    "collapsed": true
   },
   "outputs": [],
   "source": []
  },
  {
   "cell_type": "code",
   "execution_count": null,
   "metadata": {
    "collapsed": false
   },
   "outputs": [],
   "source": [
    "#Sweep for several sigmas, with mean of s fixed (= s* = 1/R0).\n",
    "\n",
    "R0s = [1.4,2.8,5.4]\n",
    "sigmas = arange(0.01,0.15,0.01)\n",
    "\n",
    "totalZsigma = []\n",
    "\n",
    "for R0 in R0s:\n",
    "    print R0\n",
    "    \n",
    "    zSigma = [giveAverageFinalsizes(R0,[1/R0], sigma) for sigma in sigmas]\n",
    "    \n",
    "    totalZsigma += [ (R0,zSigma) ]\n",
    "\n",
    "totalZsigma = dict(totalZsigma)\n"
   ]
  },
  {
   "cell_type": "code",
   "execution_count": null,
   "metadata": {
    "collapsed": true
   },
   "outputs": [],
   "source": [
    "fun.writeData('dataSuscAttackPlot/totalZsigma',totalZsigma)"
   ]
  },
  {
   "cell_type": "code",
   "execution_count": null,
   "metadata": {
    "collapsed": true
   },
   "outputs": [],
   "source": [
    "R0s = [1.4,2.8,5.4]\n",
    "sigmas = arange(0.01,0.15,0.01)\n",
    "\n",
    "totalZsigma = fun.readData('dataSuscAttackPlot/totalZsigma')"
   ]
  },
  {
   "cell_type": "code",
   "execution_count": null,
   "metadata": {
    "collapsed": false
   },
   "outputs": [],
   "source": [
    "fig = figure(figsize=(8,5))\n",
    "ax = fig.add_subplot(111)\n",
    "\n",
    "colors = ['blue', 'green', 'gray']\n",
    "\n",
    "for color,R0 in zip(colors,R0s):\n",
    "    Z = [x[0][1] for x in totalZsigma[R0]]\n",
    "    ax.scatter(sigmas,Z, label = R0, color = color, lw = 0, s = 50)\n",
    "\n",
    "    \n",
    "ax.set_xticks(arange(0,0.16,0.05))\n",
    "ax.set_ylim(0,0.12)\n",
    "\n",
    "ax.legend(loc  = 2, frameon = False, scatterpoints = 1, markerscale = 2)\n",
    "\n",
    "ax.set_xlabel('Standard deviation')\n",
    "ax.set_ylabel('Average infection\\n attack rate')\n",
    "\n",
    "tight_layout()\n",
    "\n",
    "#Save figure.\n",
    "if True:\n",
    "    fig.savefig('figures/AttackRateSigma.eps')\n",
    "    fig.savefig('figures/AttackRateSigma.png')"
   ]
  },
  {
   "cell_type": "code",
   "execution_count": null,
   "metadata": {
    "collapsed": true
   },
   "outputs": [],
   "source": []
  },
  {
   "cell_type": "code",
   "execution_count": null,
   "metadata": {
    "collapsed": true
   },
   "outputs": [],
   "source": []
  }
 ],
 "metadata": {
  "kernelspec": {
   "display_name": "Python 2",
   "language": "python",
   "name": "python2"
  },
  "language_info": {
   "codemirror_mode": {
    "name": "ipython",
    "version": 2
   },
   "file_extension": ".py",
   "mimetype": "text/x-python",
   "name": "python",
   "nbconvert_exporter": "python",
   "pygments_lexer": "ipython2",
   "version": "2.7.11"
  }
 },
 "nbformat": 4,
 "nbformat_minor": 0
}
