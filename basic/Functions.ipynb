{
 "cells": [
  {
   "cell_type": "code",
   "execution_count": null,
   "metadata": {
    "collapsed": true
   },
   "outputs": [],
   "source": [
    "#Iterative final size calculation. Starting at 1.\n",
    "\n",
    "    #Parameters:\n",
    "    #R0 reproduction number.\n",
    "    #s0 susceptibility at start season.\n",
    "    #z final size (= attack rate).\n",
    "    \n",
    "import numpy as np\n",
    "\n",
    "def finalSizeFunction(z,R0,s0):\n",
    "    return s0*(1-np.exp(-R0*z))\n",
    "\n",
    "def findFinalSize(R0,s0):\n",
    "    \n",
    "    zOld = finalSizeFunction(1,R0,s0)\n",
    "    \n",
    "    stepChange = 1\n",
    "    while(stepChange > 0.00000001):\n",
    "        zNew = finalSizeFunction(zOld,R0,s0)\n",
    "        stepChange = abs(zOld-zNew)\n",
    "        zOld = zNew\n",
    "    \n",
    "    return float(zNew)"
   ]
  },
  {
   "cell_type": "code",
   "execution_count": null,
   "metadata": {
    "collapsed": true
   },
   "outputs": [],
   "source": [
    "#Functions gives the susceptibility in the next season, given current susceptibility.\n",
    "\n",
    "def giveNextSusceptibility(R0,gamma,Vc,Ve,sIn):\n",
    "    #Order: epidemic, waning immunity, vaccination.\n",
    "    \n",
    "    finalSize = findFinalSize(R0,sIn)\n",
    "    s1 = sIn - finalSize\n",
    "    s2 = 1.0 - gamma*(1.0 - s1)\n",
    "    s3 = (1.0-Vc*Ve)*s2\n",
    "        \n",
    "    return finalSize,s3"
   ]
  },
  {
   "cell_type": "code",
   "execution_count": null,
   "metadata": {
    "collapsed": true
   },
   "outputs": [],
   "source": []
  },
  {
   "cell_type": "code",
   "execution_count": 1,
   "metadata": {
    "collapsed": true
   },
   "outputs": [],
   "source": [
    "#Timeseries functions, deterministic.\n",
    "\n",
    "def timeseriesDeterministic(R0, gamma, Vc, Ve, years):\n",
    "        \n",
    "    #Add burn-in period.\n",
    "    years = range(0,len(years)+50)\n",
    "    \n",
    "    #Initialise output vectors.\n",
    "    timeseriesFinal = [0.0]     #Fraction infected during seasonal epidemic.\n",
    "    timeseriesSusc = [1.0]   #Fraction susceptibles at start of season.            \n",
    "\n",
    "    for year in years:\n",
    "        s0 = timeseriesSusc[-1]\n",
    "        \n",
    "        finalSize, susceptibility = giveNextSusceptibility(R0,gamma,Vc,Ve,s0)\n",
    "        \n",
    "        timeseriesFinal += [ finalSize ]\n",
    "        timeseriesSusc += [ susceptibility ]\n",
    "      \n",
    "    return timeseriesFinal[51:], timeseriesSusc[51:]"
   ]
  },
  {
   "cell_type": "code",
   "execution_count": 2,
   "metadata": {
    "collapsed": true
   },
   "outputs": [],
   "source": [
    "#Timeseries functions, stochastic.\n",
    "\n",
    "import random as rnd\n",
    "\n",
    "def timeseriesStochastic(R0,Vc,Ve,years,average=True):\n",
    "    \n",
    "    #Add burn-in period.\n",
    "    years = range(0,len(years)+50)\n",
    "    \n",
    "    #Initialise output vectors.\n",
    "    timeseriesFinal = [0.0]     #Fraction infected during seasonal epidemic.\n",
    "    timeseriesSusc = [1.0]   #Fraction susceptibles at start of season. \n",
    "    \n",
    "    for year in years:\n",
    "        \n",
    "        gamma = rnd.betavariate(5,2)\n",
    "        \n",
    "        s0 = timeseriesSusc[-1]\n",
    "        finalSize, susceptibility = giveNextSusceptibility(R0,gamma,Vc,Ve,s0)\n",
    "        \n",
    "        timeseriesFinal += [ finalSize ]\n",
    "        timeseriesSusc += [ susceptibility ]\n",
    "\n",
    "    \n",
    "    if average:\n",
    "        return np.mean(timeseriesFinal[51:])\n",
    "    else:\n",
    "        return timeseriesFinal[51:], timeseriesSusc[51:]"
   ]
  },
  {
   "cell_type": "code",
   "execution_count": null,
   "metadata": {
    "collapsed": true
   },
   "outputs": [],
   "source": []
  },
  {
   "cell_type": "code",
   "execution_count": null,
   "metadata": {
    "collapsed": true
   },
   "outputs": [],
   "source": [
    "#SIR-model for one season (ODEs).\n",
    "\n",
    "import numpy as np\n",
    "from scipy.integrate import odeint\n",
    "\n",
    "def SIRseason(R0,s0):\n",
    "    nu = 0.5\n",
    "    beta = nu*R0\n",
    "    N = 1000000.0\n",
    "    stepsSeason = 1000\n",
    "        \n",
    "    if N*s0 < 100:\n",
    "        print 'Warning: N to small'\n",
    "    \n",
    "    def derivative(y,t):\n",
    "        #S=y[0], I=y[1], R=y[2]\n",
    "        dSdt = -beta*y[0]*y[1]/N\n",
    "        dIdt = beta*y[0]*y[1]/N-nu*y[1]\n",
    "        dRdt = nu*y[1]\n",
    "        return [dSdt, dIdt, dRdt]\n",
    "\n",
    "    endTime = 365\n",
    "    time = np.linspace(0.0,endTime,stepsSeason)\n",
    "    yinit = np.array([s0*N-50.0,50.0,N-s0*N])\n",
    "\n",
    "    y = odeint(derivative,yinit,time)\n",
    "    \n",
    "    proportions = np.array([[y[i,0]/N, y[i,1]/N, y[i,2]/N] for i in range(len(y))])\n",
    "    return time, proportions"
   ]
  },
  {
   "cell_type": "code",
   "execution_count": null,
   "metadata": {
    "collapsed": true
   },
   "outputs": [],
   "source": []
  },
  {
   "cell_type": "code",
   "execution_count": 1,
   "metadata": {
    "collapsed": true
   },
   "outputs": [],
   "source": [
    "#Plot function. Removes box around plot.\n",
    "\n",
    "def removeFrame(ax):\n",
    "    ax.spines['top'].set_visible(False)\n",
    "    ax.spines['right'].set_visible(False)\n",
    "\n",
    "    for tic in ax.xaxis.get_major_ticks():\n",
    "        tic.tick2On = False\n",
    "    for tic in ax.yaxis.get_major_ticks():\n",
    "        tic.tick2On = False"
   ]
  },
  {
   "cell_type": "code",
   "execution_count": null,
   "metadata": {
    "collapsed": true
   },
   "outputs": [],
   "source": [
    "#Save data to file for later import back into python.\n",
    "\n",
    "import pickle\n",
    "\n",
    "def writeData(filename,data):\n",
    "    outfile = open(filename + '.dat', 'w' )\n",
    "    pickle.dump(data, outfile)\n",
    "    outfile.close()\n",
    "\n",
    "#Load data again.\n",
    "def readData(filename):\n",
    "    infile = open(filename + '.dat', 'r')\n",
    "    return pickle.load(infile)"
   ]
  }
 ],
 "metadata": {
  "kernelspec": {
   "display_name": "Python 2",
   "language": "python",
   "name": "python2"
  },
  "language_info": {
   "codemirror_mode": {
    "name": "ipython",
    "version": 2
   },
   "file_extension": ".py",
   "mimetype": "text/x-python",
   "name": "python",
   "nbconvert_exporter": "python",
   "pygments_lexer": "ipython2",
   "version": "2.7.9"
  }
 },
 "nbformat": 4,
 "nbformat_minor": 0
}
