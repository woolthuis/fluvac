{
 "cells": [
  {
   "cell_type": "code",
   "execution_count": 1,
   "metadata": {
    "collapsed": false
   },
   "outputs": [
    {
     "name": "stdout",
     "output_type": "stream",
     "text": [
      "Populating the interactive namespace from numpy and matplotlib\n"
     ]
    }
   ],
   "source": [
    "#Packages.\n",
    "from scipy.integrate import odeint      #ODE calculations for SIR\n",
    "\n",
    "#Modules.\n",
    "import Functions as fun\n",
    "\n",
    "%matplotlib inline\n",
    "%pylab inline\n",
    "\n",
    "#Plotting parameters.\n",
    "font = {'weight' : 'normal','size'   : 20}\n",
    "rc('font', **font)\n",
    "rc('lines', linewidth=2)\n",
    "\n",
    "myColors = plt.cm.Spectral(concatenate([arange(0,0.35,1/12.),arange(0.6,1.05,1/12.)]))"
   ]
  },
  {
   "cell_type": "code",
   "execution_count": 2,
   "metadata": {
    "collapsed": true
   },
   "outputs": [],
   "source": [
    "#Parameters.\n",
    "R0 = 1.4              #Basic reproduction number.\n",
    "gamma = 5.0/7.0      #Waning immunity rate. Mean beta distribution = alpha/(alpha+beta) = 10/12\n",
    "Vc = 0.1              #Vaccine coverage.\n",
    "Ve = 0.5              #Vaccine efficiency.\n",
    "\n",
    "Years = range(0,20)\n",
    "stepsSeason = 1000"
   ]
  },
  {
   "cell_type": "code",
   "execution_count": 3,
   "metadata": {
    "collapsed": false
   },
   "outputs": [],
   "source": [
    "#Timeseries functions, deterministic.\n",
    "def timeseriesDeterministicIntroductionVaccination(R0, gamma, Vc, Ve, years):\n",
    "    timeseriesFinal, timeseriesSusc = fun.timeseriesDeterministic(R0, gamma, 0.0, 0.0, range(7))\n",
    "\n",
    "    for year in years[7:]:\n",
    "        s0 = timeseriesSusc[-1]\n",
    "        finalSize, susceptibility = fun.giveNextSusceptibility(R0,gamma,Vc,Ve,s0)\n",
    "    \n",
    "        timeseriesFinal += [ finalSize ]\n",
    "        timeseriesSusc += [ susceptibility ]\n",
    "    \n",
    "    return timeseriesFinal, timeseriesSusc"
   ]
  },
  {
   "cell_type": "code",
   "execution_count": 4,
   "metadata": {
    "collapsed": true
   },
   "outputs": [],
   "source": [
    "#Timeseries functions, stochastic.\n",
    "import random as rnd\n",
    "\n",
    "def timeseriesStochasticIntroductionVaccination(R0,Vc,Ve,years):\n",
    "    timeseriesFinal, timeseriesSusc = fun.timeseriesStochastic(R0, 0.0, 0.0, range(7),average=False)\n",
    "\n",
    "    for year in years[7:]:\n",
    "        \n",
    "        gamma = rnd.betavariate(5,2)\n",
    "        \n",
    "        s0 = timeseriesSusc[-1]\n",
    "        finalSize, susceptibility = fun.giveNextSusceptibility(R0,gamma,Vc,Ve,s0)\n",
    "        \n",
    "        timeseriesFinal += [ finalSize ]\n",
    "        timeseriesSusc += [ susceptibility ]\n",
    "\n",
    "    return timeseriesFinal, timeseriesSusc"
   ]
  },
  {
   "cell_type": "code",
   "execution_count": 5,
   "metadata": {
    "collapsed": false
   },
   "outputs": [],
   "source": [
    "#Calculating mean peak incidence pre- and post-vaccination for 1000 seasons.\n",
    "\n",
    "#Determinisitic.\n",
    "finDet, suscDet = fun.timeseriesDeterministic(R0, gamma, 0.0, 0.0, Years)\n",
    "timeSeason, y = fun.SIRseason(R0,suscDet[-1])\n",
    "peakDeterministicPre = max(y[:,1])\n",
    "\n",
    "finDet, suscDet = fun.timeseriesDeterministic(R0, gamma, Vc, Ve, Years)\n",
    "timeSeason, y = fun.SIRseason(R0,suscDet[-1])\n",
    "peakDeterministicPost = max(y[:,1])\n",
    "    \n",
    "    \n",
    "#Stochastic.\n",
    "\n",
    "peakStochasticPre = []\n",
    "finStoch, suscStoch = fun.timeseriesStochastic(R0, 0.0, 0.0, range(1000), average=False)\n",
    "for s0 in suscStoch:\n",
    "    timeSeason, y = fun.SIRseason(R0,s0)\n",
    "    peakStochasticPre += [max(y[:,1])]\n",
    "    \n",
    "peakStochasticPost = []\n",
    "finStoch, suscStoch = fun.timeseriesStochastic(R0, Vc, Ve, range(1000), average=False)\n",
    "for s0 in suscStoch:\n",
    "    timeSeason, y = fun.SIRseason(R0,s0)\n",
    "    peakStochasticPost += [max(y[:,1])]"
   ]
  },
  {
   "cell_type": "code",
   "execution_count": null,
   "metadata": {
    "collapsed": true
   },
   "outputs": [],
   "source": []
  },
  {
   "cell_type": "code",
   "execution_count": 12,
   "metadata": {
    "collapsed": false
   },
   "outputs": [],
   "source": [
    "#Calculate final size and susceptibility timeseries.\n",
    "\n",
    "finDet, suscDet = timeseriesDeterministicIntroductionVaccination(R0, gamma, Vc, Ve, Years)\n",
    "finStoch, suscStoch = timeseriesStochasticIntroductionVaccination(R0, Vc, Ve, Years)\n",
    "\n",
    "#Generating SIR-model-sequence over several years.\n",
    "\n",
    "timeAxis = range(len(Years)*stepsSeason)\n",
    "\n",
    "infectedsDeterministic = []\n",
    "infectedsStochastic = []\n",
    "\n",
    "for year in Years:\n",
    "    s0 = suscDet[year]\n",
    "    timeSeason, y = fun.SIRseason(R0,s0)\n",
    "    infectedsDeterministic.extend(y[:,1])\n",
    "\n",
    "    s0 = suscStoch[year]\n",
    "    timeSeason, y = fun.SIRseason(R0,s0)\n",
    "    infectedsStochastic.extend(y[:,1])"
   ]
  },
  {
   "cell_type": "code",
   "execution_count": 13,
   "metadata": {
    "collapsed": false
   },
   "outputs": [
    {
     "data": {
      "image/png": "[encoded data removed]",
      "text/plain": [
       "<matplotlib.figure.Figure at 0x10962db90>"
      ]
     },
     "metadata": {},
     "output_type": "display_data"
    }
   ],
   "source": [
    "#Plotting timeseries, with average peak incidence values.\n",
    "import matplotlib.gridspec as gridspec\n",
    "\n",
    "fig = figure(figsize=(12,4))\n",
    "\n",
    "ax = fig.add_subplot(111)\n",
    "\n",
    "#Plot peak values. Deterministic.\n",
    "ax.plot([timeAxis[0],timeAxis[7000]],[peakDeterministicPre,peakDeterministicPre],'--',lw=1,color=myColors[9])\n",
    "ax.plot([timeAxis[7000],timeAxis[-1]],[peakDeterministicPost,peakDeterministicPost],'--',lw=1,color=myColors[9])\n",
    "\n",
    "#Plot peak values. Stochastic.\n",
    "ax.plot([timeAxis[0],timeAxis[7000]],[mean(peakStochasticPre),mean(peakStochasticPre)],\n",
    "         '--',lw=1,color=myColors[1])\n",
    "ax.plot([timeAxis[7000],timeAxis[-1]],[mean(peakStochasticPost),mean(peakStochasticPost)],\n",
    "         '--',lw=1,color=myColors[1])\n",
    "\n",
    "#Plot timeseries.\n",
    "ax.plot(timeAxis,infectedsDeterministic, color=myColors[9], label = 'Constant protection time')\n",
    "ax.plot(timeAxis,infectedsStochastic, color=myColors[1], label = 'Variable protection time')\n",
    "\n",
    "#Dummy plot for legend.\n",
    "myPlot = ax.plot([0,1],[-1,-1],'--',lw=1, color = 'black', label = 'Mean peak size')\n",
    "\n",
    "#Plot introduction of vaccination bar.\n",
    "ax.plot([7*stepsSeason,7*stepsSeason],[0,0.01], color = 'gray', lw = 4)\n",
    "\n",
    "\n",
    "\n",
    "ax.set_xticklabels([])\n",
    "ax.set_xticks(range(0,len(Years)*stepsSeason,stepsSeason))\n",
    "ax.set_xlabel('time (years)')\n",
    "\n",
    "ax.set_ylabel('Infected individuals \\n(% per day)')\n",
    "ax.set_ylim(0,0.01)\n",
    "ax.set_yticks([0,0.005,0.01])\n",
    "ax.set_yticklabels(['0.0','0.5','1.0'])\n",
    "\n",
    "ax.xaxis.grid(True)"
   ]
  },
  {
   "cell_type": "code",
   "execution_count": 14,
   "metadata": {
    "collapsed": false
   },
   "outputs": [],
   "source": [
    "#Write data for re-use.\n",
    "fun.writeData('data/TimeseriesPeakDeterministicPre',peakDeterministicPre)\n",
    "fun.writeData('data/TimeseriesPeakStochasticPre',peakStochasticPre)\n",
    "\n",
    "fun.writeData('data/TimeseriesPeakDeterministicPost',peakDeterministicPost)\n",
    "fun.writeData('data/TimeseriesPeakStochasticPost',peakStochasticPost)\n",
    "\n",
    "fun.writeData('data/TimeseriesDeterministicVaccination',infectedsDeterministic)\n",
    "fun.writeData('data/TimeseriesStochasticVaccination',infectedsStochastic)"
   ]
  },
  {
   "cell_type": "code",
   "execution_count": null,
   "metadata": {
    "collapsed": true
   },
   "outputs": [],
   "source": []
  },
  {
   "cell_type": "code",
   "execution_count": null,
   "metadata": {
    "collapsed": true
   },
   "outputs": [],
   "source": []
  }
 ],
 "metadata": {
  "kernelspec": {
   "display_name": "Python 2",
   "language": "python",
   "name": "python2"
  },
  "language_info": {
   "codemirror_mode": {
    "name": "ipython",
    "version": 2
   },
   "file_extension": ".py",
   "mimetype": "text/x-python",
   "name": "python",
   "nbconvert_exporter": "python",
   "pygments_lexer": "ipython2",
   "version": "2.7.9"
  }
 },
 "nbformat": 4,
 "nbformat_minor": 0
}
